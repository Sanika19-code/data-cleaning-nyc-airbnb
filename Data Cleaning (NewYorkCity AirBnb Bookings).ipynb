{
 "cells": [
  {
   "cell_type": "markdown",
   "id": "00bad26a",
   "metadata": {
    "id": "TUajslN1smrz",
    "papermill": {
     "duration": 0.020646,
     "end_time": "2024-04-15T05:31:18.263371",
     "exception": false,
     "start_time": "2024-04-15T05:31:18.242725",
     "status": "completed"
    },
    "tags": []
   },
   "source": [
    "# Data Cleaning"
   ]
  },
  {
   "cell_type": "markdown",
   "id": "e50c72b3-baf1-4968-a409-cfa01bc879f3",
   "metadata": {},
   "source": [
    "### Importing Libraries"
   ]
  },
  {
   "cell_type": "code",
   "execution_count": 1,
   "id": "092ea0cc",
   "metadata": {
    "id": "dByMsuzT8Tnw",
    "papermill": {
     "duration": 1.880094,
     "end_time": "2024-04-15T05:31:21.417474",
     "exception": false,
     "start_time": "2024-04-15T05:31:19.537380",
     "status": "completed"
    },
    "tags": []
   },
   "outputs": [],
   "source": [
    "# Importing necessary libraries for analysing the dataset\n",
    "import numpy as np\n",
    "import pandas as pd\n",
    "import matplotlib.pyplot as plt\n",
    "import seaborn as sns\n",
    "%matplotlib inline"
   ]
  },
  {
   "cell_type": "markdown",
   "id": "1affdeca",
   "metadata": {},
   "source": [
    "### Loading the dataset into the pandas dataframe"
   ]
  },
  {
   "cell_type": "code",
   "execution_count": 2,
   "id": "9d8f678f",
   "metadata": {
    "executionInfo": {
     "elapsed": 1064,
     "status": "ok",
     "timestamp": 1647796471644,
     "user": {
      "displayName": "Kunal Mahadik",
      "photoUrl": "https://lh3.googleusercontent.com/a/default-user=s64",
      "userId": "16288081313373243624"
     },
     "user_tz": -330
    },
    "id": "wiU1JWDAW6ZL",
    "outputId": "5a8982e2-f3dc-423e-c03a-073d5bf3c073",
    "papermill": {
     "duration": 0.443578,
     "end_time": "2024-04-15T05:31:21.996817",
     "exception": false,
     "start_time": "2024-04-15T05:31:21.553239",
     "status": "completed"
    },
    "tags": []
   },
   "outputs": [],
   "source": [
    "# Importing dataset\n",
    "airbnb_data = pd.read_csv(r\"C:\\Users\\Admin\\Desktop\\AB_NYC_2019.csv\")\n"
   ]
  },
  {
   "cell_type": "code",
   "execution_count": 3,
   "id": "ca408fa0",
   "metadata": {},
   "outputs": [
    {
     "data": {
      "text/html": [
       "<div>\n",
       "<style scoped>\n",
       "    .dataframe tbody tr th:only-of-type {\n",
       "        vertical-align: middle;\n",
       "    }\n",
       "\n",
       "    .dataframe tbody tr th {\n",
       "        vertical-align: top;\n",
       "    }\n",
       "\n",
       "    .dataframe thead th {\n",
       "        text-align: right;\n",
       "    }\n",
       "</style>\n",
       "<table border=\"1\" class=\"dataframe\">\n",
       "  <thead>\n",
       "    <tr style=\"text-align: right;\">\n",
       "      <th></th>\n",
       "      <th>id</th>\n",
       "      <th>name</th>\n",
       "      <th>host_id</th>\n",
       "      <th>host_name</th>\n",
       "      <th>neighbourhood_group</th>\n",
       "      <th>neighbourhood</th>\n",
       "      <th>latitude</th>\n",
       "      <th>longitude</th>\n",
       "      <th>room_type</th>\n",
       "      <th>price</th>\n",
       "      <th>minimum_nights</th>\n",
       "      <th>number_of_reviews</th>\n",
       "      <th>last_review</th>\n",
       "      <th>reviews_per_month</th>\n",
       "      <th>calculated_host_listings_count</th>\n",
       "      <th>availability_365</th>\n",
       "    </tr>\n",
       "  </thead>\n",
       "  <tbody>\n",
       "    <tr>\n",
       "      <th>0</th>\n",
       "      <td>2539</td>\n",
       "      <td>Clean &amp; quiet apt home by the park</td>\n",
       "      <td>2787</td>\n",
       "      <td>John</td>\n",
       "      <td>Brooklyn</td>\n",
       "      <td>Kensington</td>\n",
       "      <td>40.64749</td>\n",
       "      <td>-73.97237</td>\n",
       "      <td>Private room</td>\n",
       "      <td>149</td>\n",
       "      <td>1</td>\n",
       "      <td>9</td>\n",
       "      <td>2018-10-19</td>\n",
       "      <td>0.21</td>\n",
       "      <td>6</td>\n",
       "      <td>365</td>\n",
       "    </tr>\n",
       "    <tr>\n",
       "      <th>1</th>\n",
       "      <td>2595</td>\n",
       "      <td>Skylit Midtown Castle</td>\n",
       "      <td>2845</td>\n",
       "      <td>Jennifer</td>\n",
       "      <td>Manhattan</td>\n",
       "      <td>Midtown</td>\n",
       "      <td>40.75362</td>\n",
       "      <td>-73.98377</td>\n",
       "      <td>Entire home/apt</td>\n",
       "      <td>225</td>\n",
       "      <td>1</td>\n",
       "      <td>45</td>\n",
       "      <td>2019-05-21</td>\n",
       "      <td>0.38</td>\n",
       "      <td>2</td>\n",
       "      <td>355</td>\n",
       "    </tr>\n",
       "    <tr>\n",
       "      <th>2</th>\n",
       "      <td>3647</td>\n",
       "      <td>THE VILLAGE OF HARLEM....NEW YORK !</td>\n",
       "      <td>4632</td>\n",
       "      <td>Elisabeth</td>\n",
       "      <td>Manhattan</td>\n",
       "      <td>Harlem</td>\n",
       "      <td>40.80902</td>\n",
       "      <td>-73.94190</td>\n",
       "      <td>Private room</td>\n",
       "      <td>150</td>\n",
       "      <td>3</td>\n",
       "      <td>0</td>\n",
       "      <td>NaN</td>\n",
       "      <td>NaN</td>\n",
       "      <td>1</td>\n",
       "      <td>365</td>\n",
       "    </tr>\n",
       "    <tr>\n",
       "      <th>3</th>\n",
       "      <td>3831</td>\n",
       "      <td>Cozy Entire Floor of Brownstone</td>\n",
       "      <td>4869</td>\n",
       "      <td>LisaRoxanne</td>\n",
       "      <td>Brooklyn</td>\n",
       "      <td>Clinton Hill</td>\n",
       "      <td>40.68514</td>\n",
       "      <td>-73.95976</td>\n",
       "      <td>Entire home/apt</td>\n",
       "      <td>89</td>\n",
       "      <td>1</td>\n",
       "      <td>270</td>\n",
       "      <td>2019-07-05</td>\n",
       "      <td>4.64</td>\n",
       "      <td>1</td>\n",
       "      <td>194</td>\n",
       "    </tr>\n",
       "    <tr>\n",
       "      <th>4</th>\n",
       "      <td>5022</td>\n",
       "      <td>Entire Apt: Spacious Studio/Loft by central park</td>\n",
       "      <td>7192</td>\n",
       "      <td>Laura</td>\n",
       "      <td>Manhattan</td>\n",
       "      <td>East Harlem</td>\n",
       "      <td>40.79851</td>\n",
       "      <td>-73.94399</td>\n",
       "      <td>Entire home/apt</td>\n",
       "      <td>80</td>\n",
       "      <td>10</td>\n",
       "      <td>9</td>\n",
       "      <td>2018-11-19</td>\n",
       "      <td>0.10</td>\n",
       "      <td>1</td>\n",
       "      <td>0</td>\n",
       "    </tr>\n",
       "  </tbody>\n",
       "</table>\n",
       "</div>"
      ],
      "text/plain": [
       "     id                                              name  host_id  \\\n",
       "0  2539                Clean & quiet apt home by the park     2787   \n",
       "1  2595                             Skylit Midtown Castle     2845   \n",
       "2  3647               THE VILLAGE OF HARLEM....NEW YORK !     4632   \n",
       "3  3831                   Cozy Entire Floor of Brownstone     4869   \n",
       "4  5022  Entire Apt: Spacious Studio/Loft by central park     7192   \n",
       "\n",
       "     host_name neighbourhood_group neighbourhood  latitude  longitude  \\\n",
       "0         John            Brooklyn    Kensington  40.64749  -73.97237   \n",
       "1     Jennifer           Manhattan       Midtown  40.75362  -73.98377   \n",
       "2    Elisabeth           Manhattan        Harlem  40.80902  -73.94190   \n",
       "3  LisaRoxanne            Brooklyn  Clinton Hill  40.68514  -73.95976   \n",
       "4        Laura           Manhattan   East Harlem  40.79851  -73.94399   \n",
       "\n",
       "         room_type  price  minimum_nights  number_of_reviews last_review  \\\n",
       "0     Private room    149               1                  9  2018-10-19   \n",
       "1  Entire home/apt    225               1                 45  2019-05-21   \n",
       "2     Private room    150               3                  0         NaN   \n",
       "3  Entire home/apt     89               1                270  2019-07-05   \n",
       "4  Entire home/apt     80              10                  9  2018-11-19   \n",
       "\n",
       "   reviews_per_month  calculated_host_listings_count  availability_365  \n",
       "0               0.21                               6               365  \n",
       "1               0.38                               2               355  \n",
       "2                NaN                               1               365  \n",
       "3               4.64                               1               194  \n",
       "4               0.10                               1                 0  "
      ]
     },
     "execution_count": 3,
     "metadata": {},
     "output_type": "execute_result"
    }
   ],
   "source": [
    "#Now let's look at the data\n",
    "airbnb_data.head()"
   ]
  },
  {
   "cell_type": "markdown",
   "id": "397b9cd6",
   "metadata": {},
   "source": [
    "### Understanding the data"
   ]
  },
  {
   "cell_type": "code",
   "execution_count": 4,
   "id": "b6dcc8d7",
   "metadata": {
    "executionInfo": {
     "elapsed": 586,
     "status": "ok",
     "timestamp": 1647796473642,
     "user": {
      "displayName": "Kunal Mahadik",
      "photoUrl": "https://lh3.googleusercontent.com/a/default-user=s64",
      "userId": "16288081313373243624"
     },
     "user_tz": -330
    },
    "id": "T5kCZjc6XSBH",
    "outputId": "3a5d7dd7-1bf5-4b48-dd5d-6c02daba3e1b",
    "papermill": {
     "duration": 0.031176,
     "end_time": "2024-04-15T05:31:22.052224",
     "exception": false,
     "start_time": "2024-04-15T05:31:22.021048",
     "status": "completed"
    },
    "tags": []
   },
   "outputs": [
    {
     "name": "stdout",
     "output_type": "stream",
     "text": [
      "The shape of Airbnb Dataset is (48895, 16)\n"
     ]
    }
   ],
   "source": [
    "# Checking the shape of datset\n",
    "print(f'The shape of Airbnb Dataset is {airbnb_data.shape}')"
   ]
  },
  {
   "cell_type": "code",
   "execution_count": 5,
   "id": "9a274dde",
   "metadata": {
    "executionInfo": {
     "elapsed": 3,
     "status": "ok",
     "timestamp": 1647796474029,
     "user": {
      "displayName": "Kunal Mahadik",
      "photoUrl": "https://lh3.googleusercontent.com/a/default-user=s64",
      "userId": "16288081313373243624"
     },
     "user_tz": -330
    },
    "id": "xLx85UWYXmaY",
    "outputId": "eba2f1cd-0eae-49ef-bd05-5125810ec159",
    "papermill": {
     "duration": 0.034918,
     "end_time": "2024-04-15T05:31:22.109370",
     "exception": false,
     "start_time": "2024-04-15T05:31:22.074452",
     "status": "completed"
    },
    "tags": []
   },
   "outputs": [
    {
     "name": "stdout",
     "output_type": "stream",
     "text": [
      " The names of the features present in the dataset are: \n"
     ]
    },
    {
     "data": {
      "text/plain": [
       "['id',\n",
       " 'name',\n",
       " 'host_id',\n",
       " 'host_name',\n",
       " 'neighbourhood_group',\n",
       " 'neighbourhood',\n",
       " 'latitude',\n",
       " 'longitude',\n",
       " 'room_type',\n",
       " 'price',\n",
       " 'minimum_nights',\n",
       " 'number_of_reviews',\n",
       " 'last_review',\n",
       " 'reviews_per_month',\n",
       " 'calculated_host_listings_count',\n",
       " 'availability_365']"
      ]
     },
     "execution_count": 5,
     "metadata": {},
     "output_type": "execute_result"
    }
   ],
   "source": [
    "# Checking the feature names\n",
    "print(f' The names of the features present in the dataset are: ')\n",
    "list(airbnb_data.columns)"
   ]
  },
  {
   "cell_type": "code",
   "execution_count": 6,
   "id": "f7bcae69",
   "metadata": {
    "executionInfo": {
     "elapsed": 383,
     "status": "ok",
     "timestamp": 1647796616995,
     "user": {
      "displayName": "Kunal Mahadik",
      "photoUrl": "https://lh3.googleusercontent.com/a/default-user=s64",
      "userId": "16288081313373243624"
     },
     "user_tz": -330
    },
    "id": "jceMGYoLYJ63",
    "outputId": "8e36687f-ec5c-41f8-86ff-c6c3c81cd9bf",
    "papermill": {
     "duration": 0.036021,
     "end_time": "2024-04-15T05:31:22.167376",
     "exception": false,
     "start_time": "2024-04-15T05:31:22.131355",
     "status": "completed"
    },
    "tags": []
   },
   "outputs": [
    {
     "name": "stdout",
     "output_type": "stream",
     "text": [
      " The following are the categorical features in the dataset: ['name', 'host_name', 'neighbourhood_group', 'neighbourhood', 'room_type', 'last_review']\n"
     ]
    }
   ],
   "source": [
    "#Checking for categorical columns\n",
    "cat_cols = airbnb_data.select_dtypes(include = 'object').columns\n",
    "print(f' The following are the categorical features in the dataset: {list(cat_cols)}')"
   ]
  },
  {
   "cell_type": "code",
   "execution_count": 7,
   "id": "7ff94633",
   "metadata": {
    "executionInfo": {
     "elapsed": 4,
     "status": "ok",
     "timestamp": 1647796618029,
     "user": {
      "displayName": "Kunal Mahadik",
      "photoUrl": "https://lh3.googleusercontent.com/a/default-user=s64",
      "userId": "16288081313373243624"
     },
     "user_tz": -330
    },
    "id": "cVnJv6WeY26h",
    "outputId": "7888581e-f3f5-4fbd-ce76-6494e319341c",
    "papermill": {
     "duration": 0.036258,
     "end_time": "2024-04-15T05:31:22.224682",
     "exception": false,
     "start_time": "2024-04-15T05:31:22.188424",
     "status": "completed"
    },
    "tags": []
   },
   "outputs": [
    {
     "name": "stdout",
     "output_type": "stream",
     "text": [
      " The following are the non categorical features in the dataset:\n"
     ]
    },
    {
     "data": {
      "text/plain": [
       "['id',\n",
       " 'host_id',\n",
       " 'latitude',\n",
       " 'longitude',\n",
       " 'price',\n",
       " 'minimum_nights',\n",
       " 'number_of_reviews',\n",
       " 'reviews_per_month',\n",
       " 'calculated_host_listings_count',\n",
       " 'availability_365']"
      ]
     },
     "execution_count": 7,
     "metadata": {},
     "output_type": "execute_result"
    }
   ],
   "source": [
    "# Checking for numeric/ non categorical columns\n",
    "num_cols = airbnb_data.select_dtypes(exclude = 'object').columns\n",
    "print(' The following are the non categorical features in the dataset:') \n",
    "list(num_cols)"
   ]
  },
  {
   "cell_type": "markdown",
   "id": "fd238a0f",
   "metadata": {},
   "source": [
    "### Display the first 5 rows"
   ]
  },
  {
   "cell_type": "code",
   "execution_count": 8,
   "id": "0fe33209",
   "metadata": {
    "executionInfo": {
     "elapsed": 7,
     "status": "ok",
     "timestamp": 1647796619505,
     "user": {
      "displayName": "Kunal Mahadik",
      "photoUrl": "https://lh3.googleusercontent.com/a/default-user=s64",
      "userId": "16288081313373243624"
     },
     "user_tz": -330
    },
    "id": "Oj5LLWO0ZWfv",
    "outputId": "f86dd8ac-059b-4092-85be-6d1320c6f323",
    "papermill": {
     "duration": 0.049651,
     "end_time": "2024-04-15T05:31:22.296070",
     "exception": false,
     "start_time": "2024-04-15T05:31:22.246419",
     "status": "completed"
    },
    "tags": []
   },
   "outputs": [
    {
     "data": {
      "text/html": [
       "<div>\n",
       "<style scoped>\n",
       "    .dataframe tbody tr th:only-of-type {\n",
       "        vertical-align: middle;\n",
       "    }\n",
       "\n",
       "    .dataframe tbody tr th {\n",
       "        vertical-align: top;\n",
       "    }\n",
       "\n",
       "    .dataframe thead th {\n",
       "        text-align: right;\n",
       "    }\n",
       "</style>\n",
       "<table border=\"1\" class=\"dataframe\">\n",
       "  <thead>\n",
       "    <tr style=\"text-align: right;\">\n",
       "      <th></th>\n",
       "      <th>id</th>\n",
       "      <th>name</th>\n",
       "      <th>host_id</th>\n",
       "      <th>host_name</th>\n",
       "      <th>neighbourhood_group</th>\n",
       "      <th>neighbourhood</th>\n",
       "      <th>latitude</th>\n",
       "      <th>longitude</th>\n",
       "      <th>room_type</th>\n",
       "      <th>price</th>\n",
       "      <th>minimum_nights</th>\n",
       "      <th>number_of_reviews</th>\n",
       "      <th>last_review</th>\n",
       "      <th>reviews_per_month</th>\n",
       "      <th>calculated_host_listings_count</th>\n",
       "      <th>availability_365</th>\n",
       "    </tr>\n",
       "  </thead>\n",
       "  <tbody>\n",
       "    <tr>\n",
       "      <th>0</th>\n",
       "      <td>2539</td>\n",
       "      <td>Clean &amp; quiet apt home by the park</td>\n",
       "      <td>2787</td>\n",
       "      <td>John</td>\n",
       "      <td>Brooklyn</td>\n",
       "      <td>Kensington</td>\n",
       "      <td>40.64749</td>\n",
       "      <td>-73.97237</td>\n",
       "      <td>Private room</td>\n",
       "      <td>149</td>\n",
       "      <td>1</td>\n",
       "      <td>9</td>\n",
       "      <td>2018-10-19</td>\n",
       "      <td>0.21</td>\n",
       "      <td>6</td>\n",
       "      <td>365</td>\n",
       "    </tr>\n",
       "    <tr>\n",
       "      <th>1</th>\n",
       "      <td>2595</td>\n",
       "      <td>Skylit Midtown Castle</td>\n",
       "      <td>2845</td>\n",
       "      <td>Jennifer</td>\n",
       "      <td>Manhattan</td>\n",
       "      <td>Midtown</td>\n",
       "      <td>40.75362</td>\n",
       "      <td>-73.98377</td>\n",
       "      <td>Entire home/apt</td>\n",
       "      <td>225</td>\n",
       "      <td>1</td>\n",
       "      <td>45</td>\n",
       "      <td>2019-05-21</td>\n",
       "      <td>0.38</td>\n",
       "      <td>2</td>\n",
       "      <td>355</td>\n",
       "    </tr>\n",
       "    <tr>\n",
       "      <th>2</th>\n",
       "      <td>3647</td>\n",
       "      <td>THE VILLAGE OF HARLEM....NEW YORK !</td>\n",
       "      <td>4632</td>\n",
       "      <td>Elisabeth</td>\n",
       "      <td>Manhattan</td>\n",
       "      <td>Harlem</td>\n",
       "      <td>40.80902</td>\n",
       "      <td>-73.94190</td>\n",
       "      <td>Private room</td>\n",
       "      <td>150</td>\n",
       "      <td>3</td>\n",
       "      <td>0</td>\n",
       "      <td>NaN</td>\n",
       "      <td>NaN</td>\n",
       "      <td>1</td>\n",
       "      <td>365</td>\n",
       "    </tr>\n",
       "    <tr>\n",
       "      <th>3</th>\n",
       "      <td>3831</td>\n",
       "      <td>Cozy Entire Floor of Brownstone</td>\n",
       "      <td>4869</td>\n",
       "      <td>LisaRoxanne</td>\n",
       "      <td>Brooklyn</td>\n",
       "      <td>Clinton Hill</td>\n",
       "      <td>40.68514</td>\n",
       "      <td>-73.95976</td>\n",
       "      <td>Entire home/apt</td>\n",
       "      <td>89</td>\n",
       "      <td>1</td>\n",
       "      <td>270</td>\n",
       "      <td>2019-07-05</td>\n",
       "      <td>4.64</td>\n",
       "      <td>1</td>\n",
       "      <td>194</td>\n",
       "    </tr>\n",
       "    <tr>\n",
       "      <th>4</th>\n",
       "      <td>5022</td>\n",
       "      <td>Entire Apt: Spacious Studio/Loft by central park</td>\n",
       "      <td>7192</td>\n",
       "      <td>Laura</td>\n",
       "      <td>Manhattan</td>\n",
       "      <td>East Harlem</td>\n",
       "      <td>40.79851</td>\n",
       "      <td>-73.94399</td>\n",
       "      <td>Entire home/apt</td>\n",
       "      <td>80</td>\n",
       "      <td>10</td>\n",
       "      <td>9</td>\n",
       "      <td>2018-11-19</td>\n",
       "      <td>0.10</td>\n",
       "      <td>1</td>\n",
       "      <td>0</td>\n",
       "    </tr>\n",
       "  </tbody>\n",
       "</table>\n",
       "</div>"
      ],
      "text/plain": [
       "     id                                              name  host_id  \\\n",
       "0  2539                Clean & quiet apt home by the park     2787   \n",
       "1  2595                             Skylit Midtown Castle     2845   \n",
       "2  3647               THE VILLAGE OF HARLEM....NEW YORK !     4632   \n",
       "3  3831                   Cozy Entire Floor of Brownstone     4869   \n",
       "4  5022  Entire Apt: Spacious Studio/Loft by central park     7192   \n",
       "\n",
       "     host_name neighbourhood_group neighbourhood  latitude  longitude  \\\n",
       "0         John            Brooklyn    Kensington  40.64749  -73.97237   \n",
       "1     Jennifer           Manhattan       Midtown  40.75362  -73.98377   \n",
       "2    Elisabeth           Manhattan        Harlem  40.80902  -73.94190   \n",
       "3  LisaRoxanne            Brooklyn  Clinton Hill  40.68514  -73.95976   \n",
       "4        Laura           Manhattan   East Harlem  40.79851  -73.94399   \n",
       "\n",
       "         room_type  price  minimum_nights  number_of_reviews last_review  \\\n",
       "0     Private room    149               1                  9  2018-10-19   \n",
       "1  Entire home/apt    225               1                 45  2019-05-21   \n",
       "2     Private room    150               3                  0         NaN   \n",
       "3  Entire home/apt     89               1                270  2019-07-05   \n",
       "4  Entire home/apt     80              10                  9  2018-11-19   \n",
       "\n",
       "   reviews_per_month  calculated_host_listings_count  availability_365  \n",
       "0               0.21                               6               365  \n",
       "1               0.38                               2               355  \n",
       "2                NaN                               1               365  \n",
       "3               4.64                               1               194  \n",
       "4               0.10                               1                 0  "
      ]
     },
     "execution_count": 8,
     "metadata": {},
     "output_type": "execute_result"
    }
   ],
   "source": [
    "airbnb_data.head()"
   ]
  },
  {
   "cell_type": "markdown",
   "id": "e98d8274",
   "metadata": {},
   "source": [
    "### Display the last 5 rows"
   ]
  },
  {
   "cell_type": "code",
   "execution_count": 9,
   "id": "5e2a802c",
   "metadata": {
    "executionInfo": {
     "elapsed": 6,
     "status": "ok",
     "timestamp": 1647796620914,
     "user": {
      "displayName": "Kunal Mahadik",
      "photoUrl": "https://lh3.googleusercontent.com/a/default-user=s64",
      "userId": "16288081313373243624"
     },
     "user_tz": -330
    },
    "id": "4zA4uKUHZk4n",
    "outputId": "e2a50920-ad4e-43a8-c004-4c8f0e2cfe1f",
    "papermill": {
     "duration": 0.050722,
     "end_time": "2024-04-15T05:31:22.370585",
     "exception": false,
     "start_time": "2024-04-15T05:31:22.319863",
     "status": "completed"
    },
    "tags": []
   },
   "outputs": [
    {
     "data": {
      "text/html": [
       "<div>\n",
       "<style scoped>\n",
       "    .dataframe tbody tr th:only-of-type {\n",
       "        vertical-align: middle;\n",
       "    }\n",
       "\n",
       "    .dataframe tbody tr th {\n",
       "        vertical-align: top;\n",
       "    }\n",
       "\n",
       "    .dataframe thead th {\n",
       "        text-align: right;\n",
       "    }\n",
       "</style>\n",
       "<table border=\"1\" class=\"dataframe\">\n",
       "  <thead>\n",
       "    <tr style=\"text-align: right;\">\n",
       "      <th></th>\n",
       "      <th>id</th>\n",
       "      <th>name</th>\n",
       "      <th>host_id</th>\n",
       "      <th>host_name</th>\n",
       "      <th>neighbourhood_group</th>\n",
       "      <th>neighbourhood</th>\n",
       "      <th>latitude</th>\n",
       "      <th>longitude</th>\n",
       "      <th>room_type</th>\n",
       "      <th>price</th>\n",
       "      <th>minimum_nights</th>\n",
       "      <th>number_of_reviews</th>\n",
       "      <th>last_review</th>\n",
       "      <th>reviews_per_month</th>\n",
       "      <th>calculated_host_listings_count</th>\n",
       "      <th>availability_365</th>\n",
       "    </tr>\n",
       "  </thead>\n",
       "  <tbody>\n",
       "    <tr>\n",
       "      <th>48890</th>\n",
       "      <td>36484665</td>\n",
       "      <td>Charming one bedroom - newly renovated rowhouse</td>\n",
       "      <td>8232441</td>\n",
       "      <td>Sabrina</td>\n",
       "      <td>Brooklyn</td>\n",
       "      <td>Bedford-Stuyvesant</td>\n",
       "      <td>40.67853</td>\n",
       "      <td>-73.94995</td>\n",
       "      <td>Private room</td>\n",
       "      <td>70</td>\n",
       "      <td>2</td>\n",
       "      <td>0</td>\n",
       "      <td>NaN</td>\n",
       "      <td>NaN</td>\n",
       "      <td>2</td>\n",
       "      <td>9</td>\n",
       "    </tr>\n",
       "    <tr>\n",
       "      <th>48891</th>\n",
       "      <td>36485057</td>\n",
       "      <td>Affordable room in Bushwick/East Williamsburg</td>\n",
       "      <td>6570630</td>\n",
       "      <td>Marisol</td>\n",
       "      <td>Brooklyn</td>\n",
       "      <td>Bushwick</td>\n",
       "      <td>40.70184</td>\n",
       "      <td>-73.93317</td>\n",
       "      <td>Private room</td>\n",
       "      <td>40</td>\n",
       "      <td>4</td>\n",
       "      <td>0</td>\n",
       "      <td>NaN</td>\n",
       "      <td>NaN</td>\n",
       "      <td>2</td>\n",
       "      <td>36</td>\n",
       "    </tr>\n",
       "    <tr>\n",
       "      <th>48892</th>\n",
       "      <td>36485431</td>\n",
       "      <td>Sunny Studio at Historical Neighborhood</td>\n",
       "      <td>23492952</td>\n",
       "      <td>Ilgar &amp; Aysel</td>\n",
       "      <td>Manhattan</td>\n",
       "      <td>Harlem</td>\n",
       "      <td>40.81475</td>\n",
       "      <td>-73.94867</td>\n",
       "      <td>Entire home/apt</td>\n",
       "      <td>115</td>\n",
       "      <td>10</td>\n",
       "      <td>0</td>\n",
       "      <td>NaN</td>\n",
       "      <td>NaN</td>\n",
       "      <td>1</td>\n",
       "      <td>27</td>\n",
       "    </tr>\n",
       "    <tr>\n",
       "      <th>48893</th>\n",
       "      <td>36485609</td>\n",
       "      <td>43rd St. Time Square-cozy single bed</td>\n",
       "      <td>30985759</td>\n",
       "      <td>Taz</td>\n",
       "      <td>Manhattan</td>\n",
       "      <td>Hell's Kitchen</td>\n",
       "      <td>40.75751</td>\n",
       "      <td>-73.99112</td>\n",
       "      <td>Shared room</td>\n",
       "      <td>55</td>\n",
       "      <td>1</td>\n",
       "      <td>0</td>\n",
       "      <td>NaN</td>\n",
       "      <td>NaN</td>\n",
       "      <td>6</td>\n",
       "      <td>2</td>\n",
       "    </tr>\n",
       "    <tr>\n",
       "      <th>48894</th>\n",
       "      <td>36487245</td>\n",
       "      <td>Trendy duplex in the very heart of Hell's Kitchen</td>\n",
       "      <td>68119814</td>\n",
       "      <td>Christophe</td>\n",
       "      <td>Manhattan</td>\n",
       "      <td>Hell's Kitchen</td>\n",
       "      <td>40.76404</td>\n",
       "      <td>-73.98933</td>\n",
       "      <td>Private room</td>\n",
       "      <td>90</td>\n",
       "      <td>7</td>\n",
       "      <td>0</td>\n",
       "      <td>NaN</td>\n",
       "      <td>NaN</td>\n",
       "      <td>1</td>\n",
       "      <td>23</td>\n",
       "    </tr>\n",
       "  </tbody>\n",
       "</table>\n",
       "</div>"
      ],
      "text/plain": [
       "             id                                               name   host_id  \\\n",
       "48890  36484665    Charming one bedroom - newly renovated rowhouse   8232441   \n",
       "48891  36485057      Affordable room in Bushwick/East Williamsburg   6570630   \n",
       "48892  36485431            Sunny Studio at Historical Neighborhood  23492952   \n",
       "48893  36485609               43rd St. Time Square-cozy single bed  30985759   \n",
       "48894  36487245  Trendy duplex in the very heart of Hell's Kitchen  68119814   \n",
       "\n",
       "           host_name neighbourhood_group       neighbourhood  latitude  \\\n",
       "48890        Sabrina            Brooklyn  Bedford-Stuyvesant  40.67853   \n",
       "48891        Marisol            Brooklyn            Bushwick  40.70184   \n",
       "48892  Ilgar & Aysel           Manhattan              Harlem  40.81475   \n",
       "48893            Taz           Manhattan      Hell's Kitchen  40.75751   \n",
       "48894     Christophe           Manhattan      Hell's Kitchen  40.76404   \n",
       "\n",
       "       longitude        room_type  price  minimum_nights  number_of_reviews  \\\n",
       "48890  -73.94995     Private room     70               2                  0   \n",
       "48891  -73.93317     Private room     40               4                  0   \n",
       "48892  -73.94867  Entire home/apt    115              10                  0   \n",
       "48893  -73.99112      Shared room     55               1                  0   \n",
       "48894  -73.98933     Private room     90               7                  0   \n",
       "\n",
       "      last_review  reviews_per_month  calculated_host_listings_count  \\\n",
       "48890         NaN                NaN                               2   \n",
       "48891         NaN                NaN                               2   \n",
       "48892         NaN                NaN                               1   \n",
       "48893         NaN                NaN                               6   \n",
       "48894         NaN                NaN                               1   \n",
       "\n",
       "       availability_365  \n",
       "48890                 9  \n",
       "48891                36  \n",
       "48892                27  \n",
       "48893                 2  \n",
       "48894                23  "
      ]
     },
     "execution_count": 9,
     "metadata": {},
     "output_type": "execute_result"
    }
   ],
   "source": [
    "airbnb_data.tail(5)"
   ]
  },
  {
   "cell_type": "code",
   "execution_count": 10,
   "id": "ef01a56d",
   "metadata": {
    "executionInfo": {
     "elapsed": 3,
     "status": "ok",
     "timestamp": 1647796622575,
     "user": {
      "displayName": "Kunal Mahadik",
      "photoUrl": "https://lh3.googleusercontent.com/a/default-user=s64",
      "userId": "16288081313373243624"
     },
     "user_tz": -330
    },
    "id": "f40yn8g2Zqfv",
    "outputId": "84da33d1-3188-452d-d7dd-0cdd402cb389",
    "papermill": {
     "duration": 0.104929,
     "end_time": "2024-04-15T05:31:22.500684",
     "exception": false,
     "start_time": "2024-04-15T05:31:22.395755",
     "status": "completed"
    },
    "tags": []
   },
   "outputs": [
    {
     "name": "stdout",
     "output_type": "stream",
     "text": [
      "<class 'pandas.core.frame.DataFrame'>\n",
      "RangeIndex: 48895 entries, 0 to 48894\n",
      "Data columns (total 16 columns):\n",
      " #   Column                          Non-Null Count  Dtype  \n",
      "---  ------                          --------------  -----  \n",
      " 0   id                              48895 non-null  int64  \n",
      " 1   name                            48879 non-null  object \n",
      " 2   host_id                         48895 non-null  int64  \n",
      " 3   host_name                       48874 non-null  object \n",
      " 4   neighbourhood_group             48895 non-null  object \n",
      " 5   neighbourhood                   48895 non-null  object \n",
      " 6   latitude                        48895 non-null  float64\n",
      " 7   longitude                       48895 non-null  float64\n",
      " 8   room_type                       48895 non-null  object \n",
      " 9   price                           48895 non-null  int64  \n",
      " 10  minimum_nights                  48895 non-null  int64  \n",
      " 11  number_of_reviews               48895 non-null  int64  \n",
      " 12  last_review                     38843 non-null  object \n",
      " 13  reviews_per_month               38843 non-null  float64\n",
      " 14  calculated_host_listings_count  48895 non-null  int64  \n",
      " 15  availability_365                48895 non-null  int64  \n",
      "dtypes: float64(3), int64(7), object(6)\n",
      "memory usage: 6.0+ MB\n"
     ]
    }
   ],
   "source": [
    "# Checking the information of the dataset\n",
    "airbnb_data.info()"
   ]
  },
  {
   "cell_type": "code",
   "execution_count": 11,
   "id": "78a4d710",
   "metadata": {
    "executionInfo": {
     "elapsed": 4,
     "status": "ok",
     "timestamp": 1647796623970,
     "user": {
      "displayName": "Kunal Mahadik",
      "photoUrl": "https://lh3.googleusercontent.com/a/default-user=s64",
      "userId": "16288081313373243624"
     },
     "user_tz": -330
    },
    "id": "wzFf7d5waQx4",
    "outputId": "b74e2ccf-86bc-434c-ffa2-dcdd3f2a4ccb",
    "papermill": {
     "duration": 0.076687,
     "end_time": "2024-04-15T05:31:22.601821",
     "exception": false,
     "start_time": "2024-04-15T05:31:22.525134",
     "status": "completed"
    },
    "tags": []
   },
   "outputs": [
    {
     "name": "stdout",
     "output_type": "stream",
     "text": [
      "The missing values before cleaning the data are:\n"
     ]
    },
    {
     "data": {
      "text/plain": [
       "id                                    0\n",
       "name                                 16\n",
       "host_id                               0\n",
       "host_name                            21\n",
       "neighbourhood_group                   0\n",
       "neighbourhood                         0\n",
       "latitude                              0\n",
       "longitude                             0\n",
       "room_type                             0\n",
       "price                                 0\n",
       "minimum_nights                        0\n",
       "number_of_reviews                     0\n",
       "last_review                       10052\n",
       "reviews_per_month                 10052\n",
       "calculated_host_listings_count        0\n",
       "availability_365                      0\n",
       "dtype: int64"
      ]
     },
     "execution_count": 11,
     "metadata": {},
     "output_type": "execute_result"
    }
   ],
   "source": [
    "# Checking for the null values\n",
    "print(f'The missing values before cleaning the data are:')\n",
    "airbnb_data.isnull().sum()"
   ]
  },
  {
   "cell_type": "markdown",
   "id": "46ee5bee",
   "metadata": {
    "id": "BFUVvBrxdpcI",
    "papermill": {
     "duration": 0.023127,
     "end_time": "2024-04-15T05:31:22.649757",
     "exception": false,
     "start_time": "2024-04-15T05:31:22.626630",
     "status": "completed"
    },
    "tags": []
   },
   "source": [
    "The features like last_reviews and reviews_per_month have most null values in the dataset."
   ]
  },
  {
   "cell_type": "markdown",
   "id": "5408c600",
   "metadata": {},
   "source": [
    "### Handling missing data"
   ]
  },
  {
   "cell_type": "code",
   "execution_count": 12,
   "id": "36202667",
   "metadata": {
    "id": "I60XlK4hOku5",
    "papermill": {
     "duration": 0.05385,
     "end_time": "2024-04-15T05:31:22.726662",
     "exception": false,
     "start_time": "2024-04-15T05:31:22.672812",
     "status": "completed"
    },
    "tags": []
   },
   "outputs": [
    {
     "name": "stderr",
     "output_type": "stream",
     "text": [
      "C:\\Users\\Admin\\AppData\\Local\\Temp\\ipykernel_4536\\616497840.py:2: FutureWarning: A value is trying to be set on a copy of a DataFrame or Series through chained assignment using an inplace method.\n",
      "The behavior will change in pandas 3.0. This inplace method will never work because the intermediate object on which we are setting values always behaves as a copy.\n",
      "\n",
      "For example, when doing 'df[col].method(value, inplace=True)', try using 'df.method({col: value}, inplace=True)' or df[col] = df[col].method(value) instead, to perform the operation inplace on the original object.\n",
      "\n",
      "\n",
      "  airbnb_data['name'].fillna('Absent', inplace = True)\n",
      "C:\\Users\\Admin\\AppData\\Local\\Temp\\ipykernel_4536\\616497840.py:3: FutureWarning: A value is trying to be set on a copy of a DataFrame or Series through chained assignment using an inplace method.\n",
      "The behavior will change in pandas 3.0. This inplace method will never work because the intermediate object on which we are setting values always behaves as a copy.\n",
      "\n",
      "For example, when doing 'df[col].method(value, inplace=True)', try using 'df.method({col: value}, inplace=True)' or df[col] = df[col].method(value) instead, to perform the operation inplace on the original object.\n",
      "\n",
      "\n",
      "  airbnb_data['host_name'].fillna('Absent', inplace =  True)\n"
     ]
    }
   ],
   "source": [
    "# Filling missing values\n",
    "airbnb_data['name'].fillna('Absent', inplace = True)\n",
    "airbnb_data['host_name'].fillna('Absent', inplace =  True)"
   ]
  },
  {
   "cell_type": "code",
   "execution_count": 13,
   "id": "0a8909bf",
   "metadata": {
    "executionInfo": {
     "elapsed": 6,
     "status": "ok",
     "timestamp": 1647796627648,
     "user": {
      "displayName": "Kunal Mahadik",
      "photoUrl": "https://lh3.googleusercontent.com/a/default-user=s64",
      "userId": "16288081313373243624"
     },
     "user_tz": -330
    },
    "id": "dywrTW5FdkgR",
    "outputId": "b92e28ff-4a89-4298-d9bb-3544d0ec965e",
    "papermill": {
     "duration": 0.055503,
     "end_time": "2024-04-15T05:31:22.806679",
     "exception": false,
     "start_time": "2024-04-15T05:31:22.751176",
     "status": "completed"
    },
    "tags": []
   },
   "outputs": [
    {
     "data": {
      "text/html": [
       "<div>\n",
       "<style scoped>\n",
       "    .dataframe tbody tr th:only-of-type {\n",
       "        vertical-align: middle;\n",
       "    }\n",
       "\n",
       "    .dataframe tbody tr th {\n",
       "        vertical-align: top;\n",
       "    }\n",
       "\n",
       "    .dataframe thead th {\n",
       "        text-align: right;\n",
       "    }\n",
       "</style>\n",
       "<table border=\"1\" class=\"dataframe\">\n",
       "  <thead>\n",
       "    <tr style=\"text-align: right;\">\n",
       "      <th></th>\n",
       "      <th>id</th>\n",
       "      <th>name</th>\n",
       "      <th>host_id</th>\n",
       "      <th>host_name</th>\n",
       "      <th>neighbourhood_group</th>\n",
       "      <th>neighbourhood</th>\n",
       "      <th>latitude</th>\n",
       "      <th>longitude</th>\n",
       "      <th>room_type</th>\n",
       "      <th>price</th>\n",
       "      <th>minimum_nights</th>\n",
       "      <th>number_of_reviews</th>\n",
       "      <th>calculated_host_listings_count</th>\n",
       "      <th>availability_365</th>\n",
       "    </tr>\n",
       "  </thead>\n",
       "  <tbody>\n",
       "    <tr>\n",
       "      <th>0</th>\n",
       "      <td>2539</td>\n",
       "      <td>Clean &amp; quiet apt home by the park</td>\n",
       "      <td>2787</td>\n",
       "      <td>John</td>\n",
       "      <td>Brooklyn</td>\n",
       "      <td>Kensington</td>\n",
       "      <td>40.64749</td>\n",
       "      <td>-73.97237</td>\n",
       "      <td>Private room</td>\n",
       "      <td>149</td>\n",
       "      <td>1</td>\n",
       "      <td>9</td>\n",
       "      <td>6</td>\n",
       "      <td>365</td>\n",
       "    </tr>\n",
       "    <tr>\n",
       "      <th>1</th>\n",
       "      <td>2595</td>\n",
       "      <td>Skylit Midtown Castle</td>\n",
       "      <td>2845</td>\n",
       "      <td>Jennifer</td>\n",
       "      <td>Manhattan</td>\n",
       "      <td>Midtown</td>\n",
       "      <td>40.75362</td>\n",
       "      <td>-73.98377</td>\n",
       "      <td>Entire home/apt</td>\n",
       "      <td>225</td>\n",
       "      <td>1</td>\n",
       "      <td>45</td>\n",
       "      <td>2</td>\n",
       "      <td>355</td>\n",
       "    </tr>\n",
       "    <tr>\n",
       "      <th>2</th>\n",
       "      <td>3647</td>\n",
       "      <td>THE VILLAGE OF HARLEM....NEW YORK !</td>\n",
       "      <td>4632</td>\n",
       "      <td>Elisabeth</td>\n",
       "      <td>Manhattan</td>\n",
       "      <td>Harlem</td>\n",
       "      <td>40.80902</td>\n",
       "      <td>-73.94190</td>\n",
       "      <td>Private room</td>\n",
       "      <td>150</td>\n",
       "      <td>3</td>\n",
       "      <td>0</td>\n",
       "      <td>1</td>\n",
       "      <td>365</td>\n",
       "    </tr>\n",
       "    <tr>\n",
       "      <th>3</th>\n",
       "      <td>3831</td>\n",
       "      <td>Cozy Entire Floor of Brownstone</td>\n",
       "      <td>4869</td>\n",
       "      <td>LisaRoxanne</td>\n",
       "      <td>Brooklyn</td>\n",
       "      <td>Clinton Hill</td>\n",
       "      <td>40.68514</td>\n",
       "      <td>-73.95976</td>\n",
       "      <td>Entire home/apt</td>\n",
       "      <td>89</td>\n",
       "      <td>1</td>\n",
       "      <td>270</td>\n",
       "      <td>1</td>\n",
       "      <td>194</td>\n",
       "    </tr>\n",
       "    <tr>\n",
       "      <th>4</th>\n",
       "      <td>5022</td>\n",
       "      <td>Entire Apt: Spacious Studio/Loft by central park</td>\n",
       "      <td>7192</td>\n",
       "      <td>Laura</td>\n",
       "      <td>Manhattan</td>\n",
       "      <td>East Harlem</td>\n",
       "      <td>40.79851</td>\n",
       "      <td>-73.94399</td>\n",
       "      <td>Entire home/apt</td>\n",
       "      <td>80</td>\n",
       "      <td>10</td>\n",
       "      <td>9</td>\n",
       "      <td>1</td>\n",
       "      <td>0</td>\n",
       "    </tr>\n",
       "  </tbody>\n",
       "</table>\n",
       "</div>"
      ],
      "text/plain": [
       "     id                                              name  host_id  \\\n",
       "0  2539                Clean & quiet apt home by the park     2787   \n",
       "1  2595                             Skylit Midtown Castle     2845   \n",
       "2  3647               THE VILLAGE OF HARLEM....NEW YORK !     4632   \n",
       "3  3831                   Cozy Entire Floor of Brownstone     4869   \n",
       "4  5022  Entire Apt: Spacious Studio/Loft by central park     7192   \n",
       "\n",
       "     host_name neighbourhood_group neighbourhood  latitude  longitude  \\\n",
       "0         John            Brooklyn    Kensington  40.64749  -73.97237   \n",
       "1     Jennifer           Manhattan       Midtown  40.75362  -73.98377   \n",
       "2    Elisabeth           Manhattan        Harlem  40.80902  -73.94190   \n",
       "3  LisaRoxanne            Brooklyn  Clinton Hill  40.68514  -73.95976   \n",
       "4        Laura           Manhattan   East Harlem  40.79851  -73.94399   \n",
       "\n",
       "         room_type  price  minimum_nights  number_of_reviews  \\\n",
       "0     Private room    149               1                  9   \n",
       "1  Entire home/apt    225               1                 45   \n",
       "2     Private room    150               3                  0   \n",
       "3  Entire home/apt     89               1                270   \n",
       "4  Entire home/apt     80              10                  9   \n",
       "\n",
       "   calculated_host_listings_count  availability_365  \n",
       "0                               6               365  \n",
       "1                               2               355  \n",
       "2                               1               365  \n",
       "3                               1               194  \n",
       "4                               1                 0  "
      ]
     },
     "execution_count": 13,
     "metadata": {},
     "output_type": "execute_result"
    }
   ],
   "source": [
    "# Dropping the unncessary columns.\n",
    "airbnb_data_new = airbnb_data.drop(['last_review','reviews_per_month'], axis =1)\n",
    "airbnb_data_new.head()"
   ]
  },
  {
   "cell_type": "code",
   "execution_count": 14,
   "id": "fb3420f5",
   "metadata": {
    "executionInfo": {
     "elapsed": 5,
     "status": "ok",
     "timestamp": 1647796628959,
     "user": {
      "displayName": "Kunal Mahadik",
      "photoUrl": "https://lh3.googleusercontent.com/a/default-user=s64",
      "userId": "16288081313373243624"
     },
     "user_tz": -330
    },
    "id": "BOOoquWpeUwD",
    "outputId": "08568c65-6afc-4c52-917c-19a6263b7652",
    "papermill": {
     "duration": 0.066154,
     "end_time": "2024-04-15T05:31:22.896008",
     "exception": false,
     "start_time": "2024-04-15T05:31:22.829854",
     "status": "completed"
    },
    "tags": []
   },
   "outputs": [
    {
     "name": "stdout",
     "output_type": "stream",
     "text": [
      "The number of missing values after cleaning the data are:\n"
     ]
    },
    {
     "data": {
      "text/plain": [
       "id                                0\n",
       "name                              0\n",
       "host_id                           0\n",
       "host_name                         0\n",
       "neighbourhood_group               0\n",
       "neighbourhood                     0\n",
       "latitude                          0\n",
       "longitude                         0\n",
       "room_type                         0\n",
       "price                             0\n",
       "minimum_nights                    0\n",
       "number_of_reviews                 0\n",
       "calculated_host_listings_count    0\n",
       "availability_365                  0\n",
       "dtype: int64"
      ]
     },
     "execution_count": 14,
     "metadata": {},
     "output_type": "execute_result"
    }
   ],
   "source": [
    "# Checking for null values in the new dataset\n",
    "print(f'The number of missing values after cleaning the data are:')\n",
    "airbnb_data_new.isnull().sum()"
   ]
  },
  {
   "cell_type": "markdown",
   "id": "b5242781",
   "metadata": {
    "id": "qeIoqrnAgqDy",
    "papermill": {
     "duration": 0.023322,
     "end_time": "2024-04-15T05:31:22.942882",
     "exception": false,
     "start_time": "2024-04-15T05:31:22.919560",
     "status": "completed"
    },
    "tags": []
   },
   "source": [
    "### Exploratory Data Analysis\n"
   ]
  },
  {
   "cell_type": "code",
   "execution_count": 15,
   "id": "6e3bdd59",
   "metadata": {
    "executionInfo": {
     "elapsed": 662,
     "status": "ok",
     "timestamp": 1647796631296,
     "user": {
      "displayName": "Kunal Mahadik",
      "photoUrl": "https://lh3.googleusercontent.com/a/default-user=s64",
      "userId": "16288081313373243624"
     },
     "user_tz": -330
    },
    "id": "CK50iT17fsP4",
    "outputId": "1595a47b-578c-4a39-e48b-5cc298929b1c",
    "papermill": {
     "duration": 0.085957,
     "end_time": "2024-04-15T05:31:23.053303",
     "exception": false,
     "start_time": "2024-04-15T05:31:22.967346",
     "status": "completed"
    },
    "tags": []
   },
   "outputs": [
    {
     "data": {
      "text/html": [
       "<div>\n",
       "<style scoped>\n",
       "    .dataframe tbody tr th:only-of-type {\n",
       "        vertical-align: middle;\n",
       "    }\n",
       "\n",
       "    .dataframe tbody tr th {\n",
       "        vertical-align: top;\n",
       "    }\n",
       "\n",
       "    .dataframe thead th {\n",
       "        text-align: right;\n",
       "    }\n",
       "</style>\n",
       "<table border=\"1\" class=\"dataframe\">\n",
       "  <thead>\n",
       "    <tr style=\"text-align: right;\">\n",
       "      <th></th>\n",
       "      <th>host_name</th>\n",
       "      <th>neighbourhood_group</th>\n",
       "      <th>calculated_host_listings_count</th>\n",
       "    </tr>\n",
       "  </thead>\n",
       "  <tbody>\n",
       "    <tr>\n",
       "      <th>13221</th>\n",
       "      <td>Sonder (NYC)</td>\n",
       "      <td>Manhattan</td>\n",
       "      <td>327</td>\n",
       "    </tr>\n",
       "    <tr>\n",
       "      <th>1837</th>\n",
       "      <td>Blueground</td>\n",
       "      <td>Brooklyn</td>\n",
       "      <td>232</td>\n",
       "    </tr>\n",
       "    <tr>\n",
       "      <th>1838</th>\n",
       "      <td>Blueground</td>\n",
       "      <td>Manhattan</td>\n",
       "      <td>232</td>\n",
       "    </tr>\n",
       "    <tr>\n",
       "      <th>7279</th>\n",
       "      <td>Kara</td>\n",
       "      <td>Manhattan</td>\n",
       "      <td>121</td>\n",
       "    </tr>\n",
       "    <tr>\n",
       "      <th>7482</th>\n",
       "      <td>Kazuya</td>\n",
       "      <td>Brooklyn</td>\n",
       "      <td>103</td>\n",
       "    </tr>\n",
       "    <tr>\n",
       "      <th>7483</th>\n",
       "      <td>Kazuya</td>\n",
       "      <td>Manhattan</td>\n",
       "      <td>103</td>\n",
       "    </tr>\n",
       "    <tr>\n",
       "      <th>7484</th>\n",
       "      <td>Kazuya</td>\n",
       "      <td>Queens</td>\n",
       "      <td>103</td>\n",
       "    </tr>\n",
       "    <tr>\n",
       "      <th>13220</th>\n",
       "      <td>Sonder</td>\n",
       "      <td>Manhattan</td>\n",
       "      <td>96</td>\n",
       "    </tr>\n",
       "    <tr>\n",
       "      <th>6544</th>\n",
       "      <td>Jeremy &amp; Laura</td>\n",
       "      <td>Manhattan</td>\n",
       "      <td>96</td>\n",
       "    </tr>\n",
       "  </tbody>\n",
       "</table>\n",
       "</div>"
      ],
      "text/plain": [
       "            host_name neighbourhood_group  calculated_host_listings_count\n",
       "13221    Sonder (NYC)           Manhattan                             327\n",
       "1837       Blueground            Brooklyn                             232\n",
       "1838       Blueground           Manhattan                             232\n",
       "7279             Kara           Manhattan                             121\n",
       "7482           Kazuya            Brooklyn                             103\n",
       "7483           Kazuya           Manhattan                             103\n",
       "7484           Kazuya              Queens                             103\n",
       "13220          Sonder           Manhattan                              96\n",
       "6544   Jeremy & Laura           Manhattan                              96"
      ]
     },
     "execution_count": 15,
     "metadata": {},
     "output_type": "execute_result"
    }
   ],
   "source": [
    "# Let's see who has the most listings and in which neighbourhood.\n",
    "host_areas = airbnb_data_new.groupby(['host_name','neighbourhood_group'])['calculated_host_listings_count'].max().reset_index()\n",
    "top_hosts = host_areas.sort_values(by = ['calculated_host_listings_count'], ascending = False).head(9)\n",
    "top_hosts"
   ]
  },
  {
   "cell_type": "markdown",
   "id": "55f2aa35",
   "metadata": {
    "id": "EJOwR4kyjNzz",
    "papermill": {
     "duration": 0.023777,
     "end_time": "2024-04-15T05:31:23.166676",
     "exception": false,
     "start_time": "2024-04-15T05:31:23.142899",
     "status": "completed"
    },
    "tags": []
   },
   "source": [
    "From the above result, we can conclude that the name of the host with the most listings is Sonder(NYC) who has 327 listings in Manhattan"
   ]
  },
  {
   "cell_type": "code",
   "execution_count": 16,
   "id": "446978b5",
   "metadata": {
    "executionInfo": {
     "elapsed": 713,
     "status": "ok",
     "timestamp": 1647796633288,
     "user": {
      "displayName": "Kunal Mahadik",
      "photoUrl": "https://lh3.googleusercontent.com/a/default-user=s64",
      "userId": "16288081313373243624"
     },
     "user_tz": -330
    },
    "id": "tHlVy-E2iVlB",
    "outputId": "c871fd64-14e1-4506-f24c-be4fa9c35062",
    "papermill": {
     "duration": 0.458749,
     "end_time": "2024-04-15T05:31:23.651158",
     "exception": false,
     "start_time": "2024-04-15T05:31:23.192409",
     "status": "completed"
    },
    "tags": []
   },
   "outputs": [
    {
     "data": {
      "image/png": "[encoded data removed]",
      "text/plain": [
       "<Figure size 800x600 with 1 Axes>"
      ]
     },
     "metadata": {},
     "output_type": "display_data"
    }
   ],
   "source": [
    "# Visualizing the hosts with most listings.\n",
    "plt.rcParams['figure.figsize'] = (8,6)\n",
    "host_name = top_hosts['host_name']\n",
    "host_lisitng = top_hosts['calculated_host_listings_count']\n",
    "plt.bar(host_name,host_lisitng)\n",
    "plt.title('Hosts with most listings in NYC',{'fontsize':18})\n",
    "plt.xlabel('Host Names',{'fontsize':18})\n",
    "plt.ylabel('Number of host listings',{'fontsize':18})\n",
    "plt.show()"
   ]
  },
  {
   "cell_type": "code",
   "execution_count": 17,
   "id": "c40d6f2a",
   "metadata": {
    "executionInfo": {
     "elapsed": 5,
     "status": "ok",
     "timestamp": 1647796633757,
     "user": {
      "displayName": "Kunal Mahadik",
      "photoUrl": "https://lh3.googleusercontent.com/a/default-user=s64",
      "userId": "16288081313373243624"
     },
     "user_tz": -330
    },
    "id": "7k8N8TFifqvp",
    "outputId": "6a714d52-ecc5-43ca-bbaf-365c19eaa9d8",
    "papermill": {
     "duration": 0.053109,
     "end_time": "2024-04-15T05:31:23.729087",
     "exception": false,
     "start_time": "2024-04-15T05:31:23.675978",
     "status": "completed"
    },
    "tags": []
   },
   "outputs": [
    {
     "data": {
      "text/html": [
       "<div>\n",
       "<style scoped>\n",
       "    .dataframe tbody tr th:only-of-type {\n",
       "        vertical-align: middle;\n",
       "    }\n",
       "\n",
       "    .dataframe tbody tr th {\n",
       "        vertical-align: top;\n",
       "    }\n",
       "\n",
       "    .dataframe thead th {\n",
       "        text-align: right;\n",
       "    }\n",
       "</style>\n",
       "<table border=\"1\" class=\"dataframe\">\n",
       "  <thead>\n",
       "    <tr style=\"text-align: right;\">\n",
       "      <th></th>\n",
       "      <th>neighbourhood_group</th>\n",
       "      <th>count</th>\n",
       "    </tr>\n",
       "  </thead>\n",
       "  <tbody>\n",
       "    <tr>\n",
       "      <th>2</th>\n",
       "      <td>Manhattan</td>\n",
       "      <td>21661</td>\n",
       "    </tr>\n",
       "    <tr>\n",
       "      <th>1</th>\n",
       "      <td>Brooklyn</td>\n",
       "      <td>20104</td>\n",
       "    </tr>\n",
       "    <tr>\n",
       "      <th>3</th>\n",
       "      <td>Queens</td>\n",
       "      <td>5666</td>\n",
       "    </tr>\n",
       "    <tr>\n",
       "      <th>0</th>\n",
       "      <td>Bronx</td>\n",
       "      <td>1091</td>\n",
       "    </tr>\n",
       "    <tr>\n",
       "      <th>4</th>\n",
       "      <td>Staten Island</td>\n",
       "      <td>373</td>\n",
       "    </tr>\n",
       "  </tbody>\n",
       "</table>\n",
       "</div>"
      ],
      "text/plain": [
       "  neighbourhood_group  count\n",
       "2           Manhattan  21661\n",
       "1            Brooklyn  20104\n",
       "3              Queens   5666\n",
       "0               Bronx   1091\n",
       "4       Staten Island    373"
      ]
     },
     "execution_count": 17,
     "metadata": {},
     "output_type": "execute_result"
    }
   ],
   "source": [
    "# Number of Airbnb listed in each neighbourhood\n",
    "data =airbnb_data_new.groupby(['neighbourhood_group'])['id'].count().reset_index().rename(columns = {'id':'count'}).sort_values(by='count', ascending = False)\n",
    "data.head()"
   ]
  },
  {
   "cell_type": "code",
   "execution_count": 18,
   "id": "5065bee3",
   "metadata": {
    "executionInfo": {
     "elapsed": 904,
     "status": "ok",
     "timestamp": 1647796635519,
     "user": {
      "displayName": "Kunal Mahadik",
      "photoUrl": "https://lh3.googleusercontent.com/a/default-user=s64",
      "userId": "16288081313373243624"
     },
     "user_tz": -330
    },
    "id": "DXZ0nP8Y2PAE",
    "outputId": "28029251-3ae2-4e64-f678-674846083f75",
    "papermill": {
     "duration": 0.3381,
     "end_time": "2024-04-15T05:31:24.092652",
     "exception": false,
     "start_time": "2024-04-15T05:31:23.754552",
     "status": "completed"
    },
    "tags": []
   },
   "outputs": [
    {
     "data": {
      "image/png": "[encoded data removed]",
      "text/plain": [
       "<Figure size 800x600 with 1 Axes>"
      ]
     },
     "metadata": {},
     "output_type": "display_data"
    }
   ],
   "source": [
    "# Visualizing the number of listings in each neighbourhood through bar plot\n",
    "plt.rcParams['figure.figsize'] = (8,6)\n",
    "ax = sns.barplot(x = data['neighbourhood_group'], y = data['count'], data = data)\n",
    "ax.set_xlabel('Neighbourhood Group')\n",
    "ax.set_ylabel('Number of listings')\n",
    "ax.set_title('Number of listings in each neighbourhood group')\n",
    "plt.show()"
   ]
  },
  {
   "cell_type": "code",
   "execution_count": 19,
   "id": "3b769583",
   "metadata": {
    "executionInfo": {
     "elapsed": 4,
     "status": "ok",
     "timestamp": 1647796636761,
     "user": {
      "displayName": "Kunal Mahadik",
      "photoUrl": "https://lh3.googleusercontent.com/a/default-user=s64",
      "userId": "16288081313373243624"
     },
     "user_tz": -330
    },
    "id": "aBszQgZOkAxL",
    "outputId": "e871ff09-d0b5-4463-826a-31cee49d5b4a",
    "papermill": {
     "duration": 0.051235,
     "end_time": "2024-04-15T05:31:24.219959",
     "exception": false,
     "start_time": "2024-04-15T05:31:24.168724",
     "status": "completed"
    },
    "tags": []
   },
   "outputs": [
    {
     "data": {
      "text/html": [
       "<div>\n",
       "<style scoped>\n",
       "    .dataframe tbody tr th:only-of-type {\n",
       "        vertical-align: middle;\n",
       "    }\n",
       "\n",
       "    .dataframe tbody tr th {\n",
       "        vertical-align: top;\n",
       "    }\n",
       "\n",
       "    .dataframe thead th {\n",
       "        text-align: right;\n",
       "    }\n",
       "</style>\n",
       "<table border=\"1\" class=\"dataframe\">\n",
       "  <thead>\n",
       "    <tr style=\"text-align: right;\">\n",
       "      <th></th>\n",
       "      <th>neighbourhood_group</th>\n",
       "      <th>number_of_reviews</th>\n",
       "    </tr>\n",
       "  </thead>\n",
       "  <tbody>\n",
       "    <tr>\n",
       "      <th>3</th>\n",
       "      <td>Queens</td>\n",
       "      <td>629</td>\n",
       "    </tr>\n",
       "    <tr>\n",
       "      <th>2</th>\n",
       "      <td>Manhattan</td>\n",
       "      <td>607</td>\n",
       "    </tr>\n",
       "    <tr>\n",
       "      <th>1</th>\n",
       "      <td>Brooklyn</td>\n",
       "      <td>488</td>\n",
       "    </tr>\n",
       "    <tr>\n",
       "      <th>4</th>\n",
       "      <td>Staten Island</td>\n",
       "      <td>333</td>\n",
       "    </tr>\n",
       "    <tr>\n",
       "      <th>0</th>\n",
       "      <td>Bronx</td>\n",
       "      <td>321</td>\n",
       "    </tr>\n",
       "  </tbody>\n",
       "</table>\n",
       "</div>"
      ],
      "text/plain": [
       "  neighbourhood_group  number_of_reviews\n",
       "3              Queens                629\n",
       "2           Manhattan                607\n",
       "1            Brooklyn                488\n",
       "4       Staten Island                333\n",
       "0               Bronx                321"
      ]
     },
     "execution_count": 19,
     "metadata": {},
     "output_type": "execute_result"
    }
   ],
   "source": [
    "# Finding which neighbourhood has got maximum number of reviews. \n",
    "areas_reviews = airbnb_data_new.groupby(['neighbourhood_group'])['number_of_reviews'].max().reset_index().sort_values(by = 'number_of_reviews', ascending = False)\n",
    "areas_reviews"
   ]
  },
  {
   "cell_type": "code",
   "execution_count": 20,
   "id": "91df7c4f",
   "metadata": {
    "executionInfo": {
     "elapsed": 5,
     "status": "ok",
     "timestamp": 1647796638371,
     "user": {
      "displayName": "Kunal Mahadik",
      "photoUrl": "https://lh3.googleusercontent.com/a/default-user=s64",
      "userId": "16288081313373243624"
     },
     "user_tz": -330
    },
    "id": "Kw2TZhNzmjST",
    "outputId": "c65fabc2-29a0-45d5-966b-c725a75d779f",
    "papermill": {
     "duration": 0.335551,
     "end_time": "2024-04-15T05:31:24.581134",
     "exception": false,
     "start_time": "2024-04-15T05:31:24.245583",
     "status": "completed"
    },
    "tags": []
   },
   "outputs": [
    {
     "data": {
      "image/png": "[encoded data removed]",
      "text/plain": [
       "<Figure size 800x600 with 1 Axes>"
      ]
     },
     "metadata": {},
     "output_type": "display_data"
    }
   ],
   "source": [
    "# Visualising the number of reviews in each neighbourhood group through pie chart\n",
    "plt.rcParams['figure.figsize'] = (8,6)\n",
    "reviews = areas_reviews['number_of_reviews']\n",
    "plt.pie(reviews, labels = areas_reviews['neighbourhood_group'], autopct ='%0.2f%%', startangle =90, explode = [0.1,0.1,0.1,0.1,0.1], shadow = True )\n",
    "plt.title('Number of reviews in each neighbourhood group', {'fontsize': 14})\n",
    "plt.show()"
   ]
  },
  {
   "cell_type": "markdown",
   "id": "40666112",
   "metadata": {
    "id": "vKXId1QWrlYk",
    "papermill": {
     "duration": 0.02933,
     "end_time": "2024-04-15T05:31:24.640615",
     "exception": false,
     "start_time": "2024-04-15T05:31:24.611285",
     "status": "completed"
    },
    "tags": []
   },
   "source": [
    "The above chart shows the share percentage of reviews for each neighborhood group. It can be stated that most reviews are from Queens and Manhattan, which indicates that residents enjoy living in these areas. The majority of the company's revenue comes from these neighborhoods as well."
   ]
  },
  {
   "cell_type": "code",
   "execution_count": 21,
   "id": "f9f8c891",
   "metadata": {
    "executionInfo": {
     "elapsed": 639,
     "status": "ok",
     "timestamp": 1647796642495,
     "user": {
      "displayName": "Kunal Mahadik",
      "photoUrl": "https://lh3.googleusercontent.com/a/default-user=s64",
      "userId": "16288081313373243624"
     },
     "user_tz": -330
    },
    "id": "6oyayRBSrG1m",
    "outputId": "63597316-a2e7-4cc1-d128-eb6b07b34b21",
    "papermill": {
     "duration": 0.089062,
     "end_time": "2024-04-15T05:31:24.756444",
     "exception": false,
     "start_time": "2024-04-15T05:31:24.667382",
     "status": "completed"
    },
    "tags": []
   },
   "outputs": [
    {
     "data": {
      "text/html": [
       "<div>\n",
       "<style scoped>\n",
       "    .dataframe tbody tr th:only-of-type {\n",
       "        vertical-align: middle;\n",
       "    }\n",
       "\n",
       "    .dataframe tbody tr th {\n",
       "        vertical-align: top;\n",
       "    }\n",
       "\n",
       "    .dataframe thead th {\n",
       "        text-align: right;\n",
       "    }\n",
       "</style>\n",
       "<table border=\"1\" class=\"dataframe\">\n",
       "  <thead>\n",
       "    <tr style=\"text-align: right;\">\n",
       "      <th></th>\n",
       "      <th>id</th>\n",
       "      <th>host_id</th>\n",
       "      <th>latitude</th>\n",
       "      <th>longitude</th>\n",
       "      <th>price</th>\n",
       "      <th>minimum_nights</th>\n",
       "      <th>number_of_reviews</th>\n",
       "      <th>calculated_host_listings_count</th>\n",
       "      <th>availability_365</th>\n",
       "    </tr>\n",
       "  </thead>\n",
       "  <tbody>\n",
       "    <tr>\n",
       "      <th>count</th>\n",
       "      <td>4.889500e+04</td>\n",
       "      <td>4.889500e+04</td>\n",
       "      <td>48895.000000</td>\n",
       "      <td>48895.000000</td>\n",
       "      <td>48895.000000</td>\n",
       "      <td>48895.000000</td>\n",
       "      <td>48895.000000</td>\n",
       "      <td>48895.000000</td>\n",
       "      <td>48895.000000</td>\n",
       "    </tr>\n",
       "    <tr>\n",
       "      <th>mean</th>\n",
       "      <td>1.901714e+07</td>\n",
       "      <td>6.762001e+07</td>\n",
       "      <td>40.728949</td>\n",
       "      <td>-73.952170</td>\n",
       "      <td>152.720687</td>\n",
       "      <td>7.029962</td>\n",
       "      <td>23.274466</td>\n",
       "      <td>7.143982</td>\n",
       "      <td>112.781327</td>\n",
       "    </tr>\n",
       "    <tr>\n",
       "      <th>std</th>\n",
       "      <td>1.098311e+07</td>\n",
       "      <td>7.861097e+07</td>\n",
       "      <td>0.054530</td>\n",
       "      <td>0.046157</td>\n",
       "      <td>240.154170</td>\n",
       "      <td>20.510550</td>\n",
       "      <td>44.550582</td>\n",
       "      <td>32.952519</td>\n",
       "      <td>131.622289</td>\n",
       "    </tr>\n",
       "    <tr>\n",
       "      <th>min</th>\n",
       "      <td>2.539000e+03</td>\n",
       "      <td>2.438000e+03</td>\n",
       "      <td>40.499790</td>\n",
       "      <td>-74.244420</td>\n",
       "      <td>0.000000</td>\n",
       "      <td>1.000000</td>\n",
       "      <td>0.000000</td>\n",
       "      <td>1.000000</td>\n",
       "      <td>0.000000</td>\n",
       "    </tr>\n",
       "    <tr>\n",
       "      <th>25%</th>\n",
       "      <td>9.471945e+06</td>\n",
       "      <td>7.822033e+06</td>\n",
       "      <td>40.690100</td>\n",
       "      <td>-73.983070</td>\n",
       "      <td>69.000000</td>\n",
       "      <td>1.000000</td>\n",
       "      <td>1.000000</td>\n",
       "      <td>1.000000</td>\n",
       "      <td>0.000000</td>\n",
       "    </tr>\n",
       "    <tr>\n",
       "      <th>50%</th>\n",
       "      <td>1.967728e+07</td>\n",
       "      <td>3.079382e+07</td>\n",
       "      <td>40.723070</td>\n",
       "      <td>-73.955680</td>\n",
       "      <td>106.000000</td>\n",
       "      <td>3.000000</td>\n",
       "      <td>5.000000</td>\n",
       "      <td>1.000000</td>\n",
       "      <td>45.000000</td>\n",
       "    </tr>\n",
       "    <tr>\n",
       "      <th>75%</th>\n",
       "      <td>2.915218e+07</td>\n",
       "      <td>1.074344e+08</td>\n",
       "      <td>40.763115</td>\n",
       "      <td>-73.936275</td>\n",
       "      <td>175.000000</td>\n",
       "      <td>5.000000</td>\n",
       "      <td>24.000000</td>\n",
       "      <td>2.000000</td>\n",
       "      <td>227.000000</td>\n",
       "    </tr>\n",
       "    <tr>\n",
       "      <th>max</th>\n",
       "      <td>3.648724e+07</td>\n",
       "      <td>2.743213e+08</td>\n",
       "      <td>40.913060</td>\n",
       "      <td>-73.712990</td>\n",
       "      <td>10000.000000</td>\n",
       "      <td>1250.000000</td>\n",
       "      <td>629.000000</td>\n",
       "      <td>327.000000</td>\n",
       "      <td>365.000000</td>\n",
       "    </tr>\n",
       "  </tbody>\n",
       "</table>\n",
       "</div>"
      ],
      "text/plain": [
       "                 id       host_id      latitude     longitude         price  \\\n",
       "count  4.889500e+04  4.889500e+04  48895.000000  48895.000000  48895.000000   \n",
       "mean   1.901714e+07  6.762001e+07     40.728949    -73.952170    152.720687   \n",
       "std    1.098311e+07  7.861097e+07      0.054530      0.046157    240.154170   \n",
       "min    2.539000e+03  2.438000e+03     40.499790    -74.244420      0.000000   \n",
       "25%    9.471945e+06  7.822033e+06     40.690100    -73.983070     69.000000   \n",
       "50%    1.967728e+07  3.079382e+07     40.723070    -73.955680    106.000000   \n",
       "75%    2.915218e+07  1.074344e+08     40.763115    -73.936275    175.000000   \n",
       "max    3.648724e+07  2.743213e+08     40.913060    -73.712990  10000.000000   \n",
       "\n",
       "       minimum_nights  number_of_reviews  calculated_host_listings_count  \\\n",
       "count    48895.000000       48895.000000                    48895.000000   \n",
       "mean         7.029962          23.274466                        7.143982   \n",
       "std         20.510550          44.550582                       32.952519   \n",
       "min          1.000000           0.000000                        1.000000   \n",
       "25%          1.000000           1.000000                        1.000000   \n",
       "50%          3.000000           5.000000                        1.000000   \n",
       "75%          5.000000          24.000000                        2.000000   \n",
       "max       1250.000000         629.000000                      327.000000   \n",
       "\n",
       "       availability_365  \n",
       "count      48895.000000  \n",
       "mean         112.781327  \n",
       "std          131.622289  \n",
       "min            0.000000  \n",
       "25%            0.000000  \n",
       "50%           45.000000  \n",
       "75%          227.000000  \n",
       "max          365.000000  "
      ]
     },
     "execution_count": 21,
     "metadata": {},
     "output_type": "execute_result"
    }
   ],
   "source": [
    "# Checking the descriptive statistics\n",
    "airbnb_data_new.describe()"
   ]
  },
  {
   "cell_type": "markdown",
   "id": "fd359580",
   "metadata": {
    "id": "hBszfFUMrJrt",
    "papermill": {
     "duration": 0.027426,
     "end_time": "2024-04-15T05:31:24.811190",
     "exception": false,
     "start_time": "2024-04-15T05:31:24.783764",
     "status": "completed"
    },
    "tags": []
   },
   "source": [
    "According to the summary statistics,  the average price is $152.72, the average minimum nights stay is 7.03 nights, and the average number of reviews is 23.27 reviews per listing. We also learn that a host has an average of 7.14 places listed and availability averages 112.78 vacant days per year.\n",
    "\n",
    "\n",
    "Above all, the minimum price is displayed as 0 and the maximum price as 10,000. There's a problem with the data, thus it's necessary to investigate and seek for outliers."
   ]
  },
  {
   "cell_type": "code",
   "execution_count": 22,
   "id": "e82303ff",
   "metadata": {
    "executionInfo": {
     "elapsed": 6,
     "status": "ok",
     "timestamp": 1647796644759,
     "user": {
      "displayName": "Kunal Mahadik",
      "photoUrl": "https://lh3.googleusercontent.com/a/default-user=s64",
      "userId": "16288081313373243624"
     },
     "user_tz": -330
    },
    "id": "EpoITzPzrGwd",
    "outputId": "ddc51de3-01fa-438b-ec39-f8babff2fe49",
    "papermill": {
     "duration": 0.046784,
     "end_time": "2024-04-15T05:31:24.885031",
     "exception": false,
     "start_time": "2024-04-15T05:31:24.838247",
     "status": "completed"
    },
    "tags": []
   },
   "outputs": [
    {
     "data": {
      "text/html": [
       "<div>\n",
       "<style scoped>\n",
       "    .dataframe tbody tr th:only-of-type {\n",
       "        vertical-align: middle;\n",
       "    }\n",
       "\n",
       "    .dataframe tbody tr th {\n",
       "        vertical-align: top;\n",
       "    }\n",
       "\n",
       "    .dataframe thead th {\n",
       "        text-align: right;\n",
       "    }\n",
       "</style>\n",
       "<table border=\"1\" class=\"dataframe\">\n",
       "  <thead>\n",
       "    <tr style=\"text-align: right;\">\n",
       "      <th></th>\n",
       "      <th>price</th>\n",
       "    </tr>\n",
       "  </thead>\n",
       "  <tbody>\n",
       "    <tr>\n",
       "      <th>mean</th>\n",
       "      <td>152.720687</td>\n",
       "    </tr>\n",
       "    <tr>\n",
       "      <th>median</th>\n",
       "      <td>106.000000</td>\n",
       "    </tr>\n",
       "    <tr>\n",
       "      <th>max</th>\n",
       "      <td>10000.000000</td>\n",
       "    </tr>\n",
       "    <tr>\n",
       "      <th>count</th>\n",
       "      <td>48895.000000</td>\n",
       "    </tr>\n",
       "  </tbody>\n",
       "</table>\n",
       "</div>"
      ],
      "text/plain": [
       "               price\n",
       "mean      152.720687\n",
       "median    106.000000\n",
       "max     10000.000000\n",
       "count   48895.000000"
      ]
     },
     "execution_count": 22,
     "metadata": {},
     "output_type": "execute_result"
    }
   ],
   "source": [
    "# Checking for outliers\n",
    "airbnb_data_new.agg({'price':['mean','median','max','count']})"
   ]
  },
  {
   "cell_type": "markdown",
   "id": "7c0847da",
   "metadata": {
    "id": "4VdqvlhIsTOj",
    "papermill": {
     "duration": 0.026692,
     "end_time": "2024-04-15T05:31:24.938633",
     "exception": false,
     "start_time": "2024-04-15T05:31:24.911941",
     "status": "completed"
    },
    "tags": []
   },
   "source": [
    "Since there are no available rooms on Airbnb, the minimum value of zero makes no sense, while the maximum value of 10,000 appears excessively large. Observe that the mean is significantly greater than the median. This suggests that there is bias in the data.\n",
    "\n",
    "A boxplot be utilized to better comprehend pricing distribution?\n"
   ]
  },
  {
   "cell_type": "code",
   "execution_count": 23,
   "id": "8cb3716a",
   "metadata": {
    "executionInfo": {
     "elapsed": 430,
     "status": "ok",
     "timestamp": 1647796652980,
     "user": {
      "displayName": "Kunal Mahadik",
      "photoUrl": "https://lh3.googleusercontent.com/a/default-user=s64",
      "userId": "16288081313373243624"
     },
     "user_tz": -330
    },
    "id": "LsyuC53XrGr8",
    "outputId": "5a26cabb-ef09-4c1e-df3b-267480806734",
    "papermill": {
     "duration": 0.313645,
     "end_time": "2024-04-15T05:31:25.279929",
     "exception": false,
     "start_time": "2024-04-15T05:31:24.966284",
     "status": "completed"
    },
    "tags": []
   },
   "outputs": [
    {
     "data": {
      "image/png": "[encoded data removed]",
      "text/plain": [
       "<Figure size 1000x500 with 1 Axes>"
      ]
     },
     "metadata": {},
     "output_type": "display_data"
    }
   ],
   "source": [
    "#Plotting the boxplot of the price data.\n",
    "plt.figure(figsize=(10,5))\n",
    "ax = sns.boxplot(y='price', data=airbnb_data_new).set_title('Price Distribution by neighbourhood group')\n",
    "sns.set_theme(style='white')\n",
    "plt.xlabel('Neighbourhood')\n",
    "plt.ylabel('Price')\n",
    "plt.show()"
   ]
  },
  {
   "cell_type": "markdown",
   "id": "36083140",
   "metadata": {
    "id": "ohJSkJiWsiZT",
    "papermill": {
     "duration": 0.028315,
     "end_time": "2024-04-15T05:31:25.336456",
     "exception": false,
     "start_time": "2024-04-15T05:31:25.308141",
     "status": "completed"
    },
    "tags": []
   },
   "source": [
    "As expected there are outliers present in the data. In order to fix this, we will be using the quantile based flooring and capping.\n",
    "First, let's print the 10th and 90th percentile of the price column."
   ]
  },
  {
   "cell_type": "code",
   "execution_count": 24,
   "id": "f319075e",
   "metadata": {
    "executionInfo": {
     "elapsed": 569,
     "status": "ok",
     "timestamp": 1647796655545,
     "user": {
      "displayName": "Kunal Mahadik",
      "photoUrl": "https://lh3.googleusercontent.com/a/default-user=s64",
      "userId": "16288081313373243624"
     },
     "user_tz": -330
    },
    "id": "t1w0kMcUrGnM",
    "outputId": "909811ba-607f-4342-ab64-283fbb8de8f4",
    "papermill": {
     "duration": 0.041083,
     "end_time": "2024-04-15T05:31:25.405680",
     "exception": false,
     "start_time": "2024-04-15T05:31:25.364597",
     "status": "completed"
    },
    "tags": []
   },
   "outputs": [
    {
     "data": {
      "text/plain": [
       "np.float64(49.0)"
      ]
     },
     "execution_count": 24,
     "metadata": {},
     "output_type": "execute_result"
    }
   ],
   "source": [
    "#finding the low quantile\n",
    "q_low = airbnb_data_new['price'].quantile(0.10)\n",
    "q_low"
   ]
  },
  {
   "cell_type": "code",
   "execution_count": 25,
   "id": "3699fb4c",
   "metadata": {
    "executionInfo": {
     "elapsed": 3,
     "status": "ok",
     "timestamp": 1647796655914,
     "user": {
      "displayName": "Kunal Mahadik",
      "photoUrl": "https://lh3.googleusercontent.com/a/default-user=s64",
      "userId": "16288081313373243624"
     },
     "user_tz": -330
    },
    "id": "NPOvssgprGij",
    "outputId": "d978c729-3492-47fb-cb6e-3e3bc6996f96",
    "papermill": {
     "duration": 0.040942,
     "end_time": "2024-04-15T05:31:25.476907",
     "exception": false,
     "start_time": "2024-04-15T05:31:25.435965",
     "status": "completed"
    },
    "tags": []
   },
   "outputs": [
    {
     "data": {
      "text/plain": [
       "np.float64(269.0)"
      ]
     },
     "execution_count": 25,
     "metadata": {},
     "output_type": "execute_result"
    }
   ],
   "source": [
    "# finding the high quantile\n",
    "q_high = airbnb_data_new['price'].quantile(0.9)\n",
    "q_high"
   ]
  },
  {
   "cell_type": "markdown",
   "id": "ee797065",
   "metadata": {
    "id": "HKC7fVQzuHGv",
    "papermill": {
     "duration": 0.028413,
     "end_time": "2024-04-15T05:31:25.535084",
     "exception": false,
     "start_time": "2024-04-15T05:31:25.506671",
     "status": "completed"
    },
    "tags": []
   },
   "source": [
    "Looks like the 10th percentile is 49USD and the 90th percentile is 269USD. Since we are dealing with Airbnb listings, it is not uncommon for a few places to be much more expensive than others, especially luxurious ones.\n",
    "\n",
    "Given that we are going to perform calculations in our data and the mean can be skewed by outliers, let's go ahead and implement the above technique by removing the values that don't apply to the specified range – set between 49USD and 269USD."
   ]
  },
  {
   "cell_type": "code",
   "execution_count": 26,
   "id": "96c24fc4",
   "metadata": {
    "id": "zHcEOa5srGZG",
    "papermill": {
     "duration": 0.066418,
     "end_time": "2024-04-15T05:31:25.632124",
     "exception": false,
     "start_time": "2024-04-15T05:31:25.565706",
     "status": "completed"
    },
    "tags": []
   },
   "outputs": [],
   "source": [
    "#removing the values below 10th percentile and above 90th percentile\n",
    "airbnb_data_new = airbnb_data_new.drop(airbnb_data_new[airbnb_data_new['price']<q_low].index)\n",
    "airbnb_data_new = airbnb_data_new.drop(airbnb_data_new[airbnb_data_new['price']>q_high].index)"
   ]
  },
  {
   "cell_type": "code",
   "execution_count": 27,
   "id": "185055bb",
   "metadata": {
    "executionInfo": {
     "elapsed": 411,
     "status": "ok",
     "timestamp": 1647796678949,
     "user": {
      "displayName": "Kunal Mahadik",
      "photoUrl": "https://lh3.googleusercontent.com/a/default-user=s64",
      "userId": "16288081313373243624"
     },
     "user_tz": -330
    },
    "id": "d9JlH9C2u5pb",
    "outputId": "f70232a1-68a8-430e-b300-2c82a5349910",
    "papermill": {
     "duration": 0.323045,
     "end_time": "2024-04-15T05:31:25.986447",
     "exception": false,
     "start_time": "2024-04-15T05:31:25.663402",
     "status": "completed"
    },
    "tags": []
   },
   "outputs": [
    {
     "data": {
      "image/png": "[encoded data removed]",
      "text/plain": [
       "<Figure size 1000x500 with 1 Axes>"
      ]
     },
     "metadata": {},
     "output_type": "display_data"
    }
   ],
   "source": [
    "#Lets create a new boxplot and check the result.\n",
    "plt.figure(figsize=(10,5))\n",
    "ax = sns.boxplot(y='price', data=airbnb_data_new).set_title('Price Distribution')\n",
    "sns.set_theme(style='white')\n",
    "plt.ylabel('Price')\n",
    "plt.show()"
   ]
  },
  {
   "cell_type": "code",
   "execution_count": 28,
   "id": "90b6032f",
   "metadata": {
    "executionInfo": {
     "elapsed": 1276,
     "status": "ok",
     "timestamp": 1647796680625,
     "user": {
      "displayName": "Kunal Mahadik",
      "photoUrl": "https://lh3.googleusercontent.com/a/default-user=s64",
      "userId": "16288081313373243624"
     },
     "user_tz": -330
    },
    "id": "snb9v4cRu5lx",
    "outputId": "075ec32d-7dfa-4f56-9728-c8e622b71497",
    "papermill": {
     "duration": 0.781224,
     "end_time": "2024-04-15T05:31:26.796856",
     "exception": false,
     "start_time": "2024-04-15T05:31:26.015632",
     "status": "completed"
    },
    "tags": []
   },
   "outputs": [
    {
     "data": {
      "image/png": "[encoded data removed]",
      "text/plain": [
       "<Figure size 1200x800 with 1 Axes>"
      ]
     },
     "metadata": {},
     "output_type": "display_data"
    }
   ],
   "source": [
    "# Now lets see the price distribution by neighbourhood gropus\n",
    "plt.figure(figsize=(12,8))\n",
    "ax = sns.violinplot(x=\"neighbourhood_group\", y=\"price\", data=airbnb_data_new).set_title('Price Distribution by neighbourhood groups')\n",
    "plt.show()"
   ]
  },
  {
   "cell_type": "markdown",
   "id": "0d551f27",
   "metadata": {
    "id": "ya5LO8x5CNel",
    "papermill": {
     "duration": 0.03281,
     "end_time": "2024-04-15T05:31:26.863553",
     "exception": false,
     "start_time": "2024-04-15T05:31:26.830743",
     "status": "completed"
    },
    "tags": []
   },
   "source": [
    "By looking at the violin plot, we can see that Manhattan has a higher price range and is the most expensive one. Brooklyn has the second-highest rental prices, while the Bronx appears as the most affordable one.\n"
   ]
  },
  {
   "cell_type": "markdown",
   "id": "736b18da",
   "metadata": {
    "id": "sHSuYDlVEQ6I",
    "papermill": {
     "duration": 0.034338,
     "end_time": "2024-04-15T05:31:26.931433",
     "exception": false,
     "start_time": "2024-04-15T05:31:26.897095",
     "status": "completed"
    },
    "tags": []
   },
   "source": [
    "### Identifying the Busiest Host\n"
   ]
  },
  {
   "cell_type": "code",
   "execution_count": 29,
   "id": "b7cc44e6",
   "metadata": {
    "executionInfo": {
     "elapsed": 366,
     "status": "ok",
     "timestamp": 1647796682536,
     "user": {
      "displayName": "Kunal Mahadik",
      "photoUrl": "https://lh3.googleusercontent.com/a/default-user=s64",
      "userId": "16288081313373243624"
     },
     "user_tz": -330
    },
    "id": "BLYR_n-fDTAH",
    "outputId": "f3969d43-0339-4e35-8e45-a533d206b269",
    "papermill": {
     "duration": 0.11124,
     "end_time": "2024-04-15T05:31:27.076630",
     "exception": false,
     "start_time": "2024-04-15T05:31:26.965390",
     "status": "completed"
    },
    "tags": []
   },
   "outputs": [
    {
     "data": {
      "text/html": [
       "<div>\n",
       "<style scoped>\n",
       "    .dataframe tbody tr th:only-of-type {\n",
       "        vertical-align: middle;\n",
       "    }\n",
       "\n",
       "    .dataframe tbody tr th {\n",
       "        vertical-align: top;\n",
       "    }\n",
       "\n",
       "    .dataframe thead th {\n",
       "        text-align: right;\n",
       "    }\n",
       "</style>\n",
       "<table border=\"1\" class=\"dataframe\">\n",
       "  <thead>\n",
       "    <tr style=\"text-align: right;\">\n",
       "      <th></th>\n",
       "      <th>host_name</th>\n",
       "      <th>host_id</th>\n",
       "      <th>room_type</th>\n",
       "      <th>neighbourhood_group</th>\n",
       "      <th>number_of_reviews</th>\n",
       "    </tr>\n",
       "  </thead>\n",
       "  <tbody>\n",
       "    <tr>\n",
       "      <th>14729</th>\n",
       "      <td>Jj</td>\n",
       "      <td>4734398</td>\n",
       "      <td>Private room</td>\n",
       "      <td>Manhattan</td>\n",
       "      <td>607</td>\n",
       "    </tr>\n",
       "    <tr>\n",
       "      <th>5194</th>\n",
       "      <td>Carol</td>\n",
       "      <td>2369681</td>\n",
       "      <td>Private room</td>\n",
       "      <td>Manhattan</td>\n",
       "      <td>540</td>\n",
       "    </tr>\n",
       "    <tr>\n",
       "      <th>3280</th>\n",
       "      <td>Asa</td>\n",
       "      <td>12949460</td>\n",
       "      <td>Entire home/apt</td>\n",
       "      <td>Brooklyn</td>\n",
       "      <td>488</td>\n",
       "    </tr>\n",
       "    <tr>\n",
       "      <th>31453</th>\n",
       "      <td>Wanda</td>\n",
       "      <td>792159</td>\n",
       "      <td>Private room</td>\n",
       "      <td>Brooklyn</td>\n",
       "      <td>480</td>\n",
       "    </tr>\n",
       "    <tr>\n",
       "      <th>18686</th>\n",
       "      <td>Linda</td>\n",
       "      <td>2680820</td>\n",
       "      <td>Private room</td>\n",
       "      <td>Queens</td>\n",
       "      <td>474</td>\n",
       "    </tr>\n",
       "    <tr>\n",
       "      <th>7176</th>\n",
       "      <td>Dani</td>\n",
       "      <td>42273</td>\n",
       "      <td>Entire home/apt</td>\n",
       "      <td>Brooklyn</td>\n",
       "      <td>467</td>\n",
       "    </tr>\n",
       "    <tr>\n",
       "      <th>2434</th>\n",
       "      <td>Angela</td>\n",
       "      <td>23591164</td>\n",
       "      <td>Private room</td>\n",
       "      <td>Queens</td>\n",
       "      <td>466</td>\n",
       "    </tr>\n",
       "    <tr>\n",
       "      <th>465</th>\n",
       "      <td>Agnes</td>\n",
       "      <td>277379</td>\n",
       "      <td>Private room</td>\n",
       "      <td>Manhattan</td>\n",
       "      <td>458</td>\n",
       "    </tr>\n",
       "    <tr>\n",
       "      <th>14973</th>\n",
       "      <td>John</td>\n",
       "      <td>2267153</td>\n",
       "      <td>Private room</td>\n",
       "      <td>Manhattan</td>\n",
       "      <td>451</td>\n",
       "    </tr>\n",
       "    <tr>\n",
       "      <th>8210</th>\n",
       "      <td>Dennis &amp; Naoko</td>\n",
       "      <td>307962</td>\n",
       "      <td>Entire home/apt</td>\n",
       "      <td>Queens</td>\n",
       "      <td>441</td>\n",
       "    </tr>\n",
       "  </tbody>\n",
       "</table>\n",
       "</div>"
      ],
      "text/plain": [
       "            host_name   host_id        room_type neighbourhood_group  \\\n",
       "14729              Jj   4734398     Private room           Manhattan   \n",
       "5194            Carol   2369681     Private room           Manhattan   \n",
       "3280              Asa  12949460  Entire home/apt            Brooklyn   \n",
       "31453           Wanda    792159     Private room            Brooklyn   \n",
       "18686           Linda   2680820     Private room              Queens   \n",
       "7176             Dani     42273  Entire home/apt            Brooklyn   \n",
       "2434           Angela  23591164     Private room              Queens   \n",
       "465             Agnes    277379     Private room           Manhattan   \n",
       "14973            John   2267153     Private room           Manhattan   \n",
       "8210   Dennis & Naoko    307962  Entire home/apt              Queens   \n",
       "\n",
       "       number_of_reviews  \n",
       "14729                607  \n",
       "5194                 540  \n",
       "3280                 488  \n",
       "31453                480  \n",
       "18686                474  \n",
       "7176                 467  \n",
       "2434                 466  \n",
       "465                  458  \n",
       "14973                451  \n",
       "8210                 441  "
      ]
     },
     "execution_count": 29,
     "metadata": {},
     "output_type": "execute_result"
    }
   ],
   "source": [
    "#Busiest hosts would be those who have maximum number of reviews as people are booking frequently at those hosts.\n",
    "\n",
    "busiest_hosts = airbnb_data_new.groupby(['host_name','host_id','room_type','neighbourhood_group'])['number_of_reviews'].max().reset_index()\n",
    "busiest_hosts = busiest_hosts.sort_values(by='number_of_reviews', ascending=False).head(10)\n",
    "busiest_hosts"
   ]
  },
  {
   "cell_type": "code",
   "execution_count": 30,
   "id": "2590f343",
   "metadata": {
    "executionInfo": {
     "elapsed": 928,
     "status": "ok",
     "timestamp": 1647796683824,
     "user": {
      "displayName": "Kunal Mahadik",
      "photoUrl": "https://lh3.googleusercontent.com/a/default-user=s64",
      "userId": "16288081313373243624"
     },
     "user_tz": -330
    },
    "id": "FKq5aEocEg42",
    "outputId": "716f6266-03de-4df5-d914-584d07e49ed3",
    "papermill": {
     "duration": 0.546996,
     "end_time": "2024-04-15T05:31:27.656781",
     "exception": false,
     "start_time": "2024-04-15T05:31:27.109785",
     "status": "completed"
    },
    "tags": []
   },
   "outputs": [
    {
     "data": {
      "text/plain": [
       "<BarContainer object of 10 artists>"
      ]
     },
     "execution_count": 30,
     "metadata": {},
     "output_type": "execute_result"
    },
    {
     "data": {
      "image/png": "[encoded data removed]",
      "text/plain": [
       "<Figure size 800x600 with 1 Axes>"
      ]
     },
     "metadata": {},
     "output_type": "display_data"
    }
   ],
   "source": [
    "# Visualising the busiest hosts data through bar plot.\n",
    "host_name = busiest_hosts['host_name']\n",
    "reviews = busiest_hosts['number_of_reviews']\n",
    "plt.title('Busiest Hosts', {'fontsize':18})\n",
    "plt.xlabel('Host Names',{'fontsize':13})\n",
    "plt.ylabel('Number of reviews',{'fontsize':18})\n",
    "plt.bar(host_name, reviews)"
   ]
  },
  {
   "cell_type": "code",
   "execution_count": 31,
   "id": "38a02bfb",
   "metadata": {
    "executionInfo": {
     "elapsed": 6,
     "status": "ok",
     "timestamp": 1647796684285,
     "user": {
      "displayName": "Kunal Mahadik",
      "photoUrl": "https://lh3.googleusercontent.com/a/default-user=s64",
      "userId": "16288081313373243624"
     },
     "user_tz": -330
    },
    "id": "ZBzqlwFKFCIW",
    "outputId": "2e7ad81c-962a-4372-f836-1e0172fb53fe",
    "papermill": {
     "duration": 0.46608,
     "end_time": "2024-04-15T05:31:28.157298",
     "exception": false,
     "start_time": "2024-04-15T05:31:27.691218",
     "status": "completed"
    },
    "tags": []
   },
   "outputs": [
    {
     "data": {
      "image/png": "[encoded data removed]",
      "text/plain": [
       "<Figure size 1000x500 with 1 Axes>"
      ]
     },
     "metadata": {},
     "output_type": "display_data"
    }
   ],
   "source": [
    "# Plotting histogram for room types to look for which are most preferred room types.\n",
    "plt.rcParams['figure.figsize'] = (10,5)\n",
    "hp = sns.histplot(airbnb_data_new['room_type'], color= 'red')\n",
    "hp.set_xlabel('Room type') \n",
    "hp.set_ylabel('Number of listings')\n",
    "plt.show()"
   ]
  },
  {
   "cell_type": "markdown",
   "id": "b5fed2cb",
   "metadata": {
    "execution": {
     "iopub.execute_input": "2024-04-15T05:31:28.224447Z",
     "iopub.status.busy": "2024-04-15T05:31:28.224028Z",
     "iopub.status.idle": "2024-04-15T05:31:28.227993Z",
     "shell.execute_reply": "2024-04-15T05:31:28.227148Z"
    },
    "id": "mqGcaW__tOCy",
    "papermill": {
     "duration": 0.040904,
     "end_time": "2024-04-15T05:31:28.230166",
     "exception": false,
     "start_time": "2024-04-15T05:31:28.189262",
     "status": "completed"
    },
    "tags": []
   },
   "source": [
    "##### Looking at the result above, we can clonclude that the top 5 Busiest Hosts are:\n",
    "Ji, Carol, Asa, Wanda,Linda"
   ]
  },
  {
   "cell_type": "markdown",
   "id": "fff9cb42",
   "metadata": {
    "id": "5icd0cjsSRqg",
    "papermill": {
     "duration": 0.03281,
     "end_time": "2024-04-15T05:31:28.294617",
     "exception": false,
     "start_time": "2024-04-15T05:31:28.261807",
     "status": "completed"
    },
    "tags": []
   },
   "source": [
    "#### The above mentioned hosts are busiest because they host Entire home/apt and private room which are the most preferred room types according to above histogram plot."
   ]
  },
  {
   "cell_type": "markdown",
   "id": "111dd49b",
   "metadata": {
    "id": "2jD0XpxrX6gu",
    "papermill": {
     "duration": 0.032416,
     "end_time": "2024-04-15T05:31:28.360783",
     "exception": false,
     "start_time": "2024-04-15T05:31:28.328367",
     "status": "completed"
    },
    "tags": []
   },
   "source": [
    "### Most Popular Rooms in the Neighbourhood"
   ]
  },
  {
   "cell_type": "code",
   "execution_count": 32,
   "id": "5ecb7a1c",
   "metadata": {
    "executionInfo": {
     "elapsed": 3,
     "status": "ok",
     "timestamp": 1647796686584,
     "user": {
      "displayName": "Kunal Mahadik",
      "photoUrl": "https://lh3.googleusercontent.com/a/default-user=s64",
      "userId": "16288081313373243624"
     },
     "user_tz": -330
    },
    "id": "57ZD095E8Jp9",
    "outputId": "ea951155-edbf-4f7d-a09d-a16e75ec3e56",
    "papermill": {
     "duration": 0.055711,
     "end_time": "2024-04-15T05:31:28.448947",
     "exception": false,
     "start_time": "2024-04-15T05:31:28.393236",
     "status": "completed"
    },
    "tags": []
   },
   "outputs": [
    {
     "data": {
      "text/plain": [
       "neighbourhood\n",
       "Williamsburg          3415\n",
       "Bedford-Stuyvesant    2963\n",
       "Harlem                2311\n",
       "Bushwick              1846\n",
       "Upper West Side       1619\n",
       "East Village          1590\n",
       "Hell's Kitchen        1576\n",
       "Upper East Side       1561\n",
       "Crown Heights         1257\n",
       "Midtown               1002\n",
       "Name: id, dtype: int64"
      ]
     },
     "execution_count": 32,
     "metadata": {},
     "output_type": "execute_result"
    }
   ],
   "source": [
    "# Lets find the top 10 neighbourhoods with most listings\n",
    "df1 = airbnb_data_new.groupby(['neighbourhood'])['id'].count().nlargest(10)\n",
    "df1"
   ]
  },
  {
   "cell_type": "code",
   "execution_count": 33,
   "id": "92b64ad0",
   "metadata": {
    "executionInfo": {
     "elapsed": 946,
     "status": "ok",
     "timestamp": 1647796687889,
     "user": {
      "displayName": "Kunal Mahadik",
      "photoUrl": "https://lh3.googleusercontent.com/a/default-user=s64",
      "userId": "16288081313373243624"
     },
     "user_tz": -330
    },
    "id": "08i6lBl481Vz",
    "outputId": "f491ef25-0d26-4a2f-d58b-2e3732b3acd3",
    "papermill": {
     "duration": 0.483861,
     "end_time": "2024-04-15T05:31:28.966963",
     "exception": false,
     "start_time": "2024-04-15T05:31:28.483102",
     "status": "completed"
    },
    "tags": []
   },
   "outputs": [
    {
     "data": {
      "image/png": "[encoded data removed]",
      "text/plain": [
       "<Figure size 1200x600 with 1 Axes>"
      ]
     },
     "metadata": {},
     "output_type": "display_data"
    }
   ],
   "source": [
    "# Visualizing the top 10 neighbourhood listings through bar plot\n",
    "plt.figure(figsize=(12,6))\n",
    "x = list(df1.index)\n",
    "y = list(df1.values)\n",
    "x.reverse()\n",
    "y.reverse()\n",
    "\n",
    "plt.title(\"Top 10 Neighbourhoods with the Most Listings\", {'fontsize':18})\n",
    "plt.ylabel(\"Neighbourhood\", {'fontsize':18})\n",
    "plt.xlabel(\"Total Listings\", {'fontsize':18})\n",
    "\n",
    "plt.barh(x, y)\n",
    "plt.show()"
   ]
  },
  {
   "cell_type": "markdown",
   "id": "b7a4898f",
   "metadata": {
    "id": "80Y-d5xg_Q0k",
    "papermill": {
     "duration": 0.035241,
     "end_time": "2024-04-15T05:31:29.036930",
     "exception": false,
     "start_time": "2024-04-15T05:31:29.001689",
     "status": "completed"
    },
    "tags": []
   },
   "source": [
    "The neighborhoods with the most listings are in Manhattan and Brooklyn – which is understandable – given that tourists are more likely to stay in those areas. Williamsburg, in Brooklyn, appears first with 3,415 listings. In Manhattan, Bedford-Stuyvesant has the most listings, totaling 2,311 offers."
   ]
  },
  {
   "cell_type": "code",
   "execution_count": 34,
   "id": "bf2faedc",
   "metadata": {
    "executionInfo": {
     "elapsed": 4,
     "status": "ok",
     "timestamp": 1647796689186,
     "user": {
      "displayName": "Kunal Mahadik",
      "photoUrl": "https://lh3.googleusercontent.com/a/default-user=s64",
      "userId": "16288081313373243624"
     },
     "user_tz": -330
    },
    "id": "VuymF_Smakrf",
    "outputId": "cdadeffc-f10b-49c6-8a45-c91928e157f3",
    "papermill": {
     "duration": 0.070121,
     "end_time": "2024-04-15T05:31:29.140612",
     "exception": false,
     "start_time": "2024-04-15T05:31:29.070491",
     "status": "completed"
    },
    "tags": []
   },
   "outputs": [
    {
     "data": {
      "text/html": [
       "<div>\n",
       "<style scoped>\n",
       "    .dataframe tbody tr th:only-of-type {\n",
       "        vertical-align: middle;\n",
       "    }\n",
       "\n",
       "    .dataframe tbody tr th {\n",
       "        vertical-align: top;\n",
       "    }\n",
       "\n",
       "    .dataframe thead th {\n",
       "        text-align: right;\n",
       "    }\n",
       "</style>\n",
       "<table border=\"1\" class=\"dataframe\">\n",
       "  <thead>\n",
       "    <tr style=\"text-align: right;\">\n",
       "      <th></th>\n",
       "      <th>neighbourhood_group</th>\n",
       "      <th>neighbourhood</th>\n",
       "      <th>room_type</th>\n",
       "      <th>number_of_reviews</th>\n",
       "    </tr>\n",
       "  </thead>\n",
       "  <tbody>\n",
       "    <tr>\n",
       "      <th>255</th>\n",
       "      <td>Manhattan</td>\n",
       "      <td>Harlem</td>\n",
       "      <td>Private room</td>\n",
       "      <td>607</td>\n",
       "    </tr>\n",
       "    <tr>\n",
       "      <th>270</th>\n",
       "      <td>Manhattan</td>\n",
       "      <td>Lower East Side</td>\n",
       "      <td>Private room</td>\n",
       "      <td>540</td>\n",
       "    </tr>\n",
       "    <tr>\n",
       "      <th>196</th>\n",
       "      <td>Brooklyn</td>\n",
       "      <td>Park Slope</td>\n",
       "      <td>Entire home/apt</td>\n",
       "      <td>488</td>\n",
       "    </tr>\n",
       "    <tr>\n",
       "      <th>132</th>\n",
       "      <td>Brooklyn</td>\n",
       "      <td>Bushwick</td>\n",
       "      <td>Private room</td>\n",
       "      <td>480</td>\n",
       "    </tr>\n",
       "    <tr>\n",
       "      <th>358</th>\n",
       "      <td>Queens</td>\n",
       "      <td>Flushing</td>\n",
       "      <td>Private room</td>\n",
       "      <td>474</td>\n",
       "    </tr>\n",
       "    <tr>\n",
       "      <th>212</th>\n",
       "      <td>Brooklyn</td>\n",
       "      <td>South Slope</td>\n",
       "      <td>Entire home/apt</td>\n",
       "      <td>467</td>\n",
       "    </tr>\n",
       "    <tr>\n",
       "      <th>348</th>\n",
       "      <td>Queens</td>\n",
       "      <td>East Elmhurst</td>\n",
       "      <td>Private room</td>\n",
       "      <td>466</td>\n",
       "    </tr>\n",
       "    <tr>\n",
       "      <th>241</th>\n",
       "      <td>Manhattan</td>\n",
       "      <td>East Village</td>\n",
       "      <td>Private room</td>\n",
       "      <td>451</td>\n",
       "    </tr>\n",
       "    <tr>\n",
       "      <th>318</th>\n",
       "      <td>Queens</td>\n",
       "      <td>Astoria</td>\n",
       "      <td>Entire home/apt</td>\n",
       "      <td>441</td>\n",
       "    </tr>\n",
       "    <tr>\n",
       "      <th>419</th>\n",
       "      <td>Queens</td>\n",
       "      <td>Springfield Gardens</td>\n",
       "      <td>Entire home/apt</td>\n",
       "      <td>434</td>\n",
       "    </tr>\n",
       "  </tbody>\n",
       "</table>\n",
       "</div>"
      ],
      "text/plain": [
       "    neighbourhood_group        neighbourhood        room_type  \\\n",
       "255           Manhattan               Harlem     Private room   \n",
       "270           Manhattan      Lower East Side     Private room   \n",
       "196            Brooklyn           Park Slope  Entire home/apt   \n",
       "132            Brooklyn             Bushwick     Private room   \n",
       "358              Queens             Flushing     Private room   \n",
       "212            Brooklyn          South Slope  Entire home/apt   \n",
       "348              Queens        East Elmhurst     Private room   \n",
       "241           Manhattan         East Village     Private room   \n",
       "318              Queens              Astoria  Entire home/apt   \n",
       "419              Queens  Springfield Gardens  Entire home/apt   \n",
       "\n",
       "     number_of_reviews  \n",
       "255                607  \n",
       "270                540  \n",
       "196                488  \n",
       "132                480  \n",
       "358                474  \n",
       "212                467  \n",
       "348                466  \n",
       "241                451  \n",
       "318                441  \n",
       "419                434  "
      ]
     },
     "execution_count": 34,
     "metadata": {},
     "output_type": "execute_result"
    }
   ],
   "source": [
    "airbnb_data_new.groupby(['neighbourhood_group','neighbourhood','room_type'])['number_of_reviews'].max().reset_index().sort_values(by = 'number_of_reviews', ascending = False).head(10)"
   ]
  },
  {
   "cell_type": "markdown",
   "id": "a2d31017",
   "metadata": {
    "id": "pgqWRyYxdKod",
    "papermill": {
     "duration": 0.035487,
     "end_time": "2024-04-15T05:31:29.209899",
     "exception": false,
     "start_time": "2024-04-15T05:31:29.174412",
     "status": "completed"
    },
    "tags": []
   },
   "source": [
    "The most popular neighbourhood is Harlem which is situated in Manhattan and the room type prefered here is Private Room."
   ]
  },
  {
   "cell_type": "markdown",
   "id": "73c1b502",
   "metadata": {
    "id": "Id74WlSBkS-v",
    "papermill": {
     "duration": 0.033103,
     "end_time": "2024-04-15T05:31:29.278729",
     "exception": false,
     "start_time": "2024-04-15T05:31:29.245626",
     "status": "completed"
    },
    "tags": []
   },
   "source": [
    "Key Findings: \n",
    "1. Manhattan has most number of listings, followed by Brooklyn and Queens. Staten Island has least number of listings.\n",
    "2. Manhattan and Brooklyn make up for 87% of listings available in NYC.\n",
    "3. Brooklyn and Manhattan are most liked neighbourhood groups by people.\n",
    "4. Queens has significantly less host listings than Manhattan. So, we should take enough steps to encourage host listings in Queens.\n",
    "5. The maximum demand is for private rooms and enitre home/apartment. People are more interested in cheaper rentals."
   ]
  },
  {
   "cell_type": "markdown",
   "id": "b566b43b",
   "metadata": {
    "id": "e_cw_FkK3STp",
    "papermill": {
     "duration": 0.03308,
     "end_time": "2024-04-15T05:31:29.344740",
     "exception": false,
     "start_time": "2024-04-15T05:31:29.311660",
     "status": "completed"
    },
    "tags": []
   },
   "source": [
    "### Conclusion:\n",
    "\n",
    "We can conclude from the analysis that Manhattan is the top neighbourhood group when it comes to the number of listings and highest rental prices. Given that Manhattan is a world-famous for its museums, stores, parks and theatres - and its substantial number of tourists throughout the year, hence the prices are much higher in this borough.\n",
    "\n",
    "The number 2 neighbourhood group is Brooklyn having significant number of listings and more affordable prices if compared to Manhattan. \n",
    "\n",
    "For other neighbourhood groups namely Queens, Bronx and Staten island there aren't as many listing options available, especially on Staten Island. Considering that those are residential areas, it is possible that many guests choose these locations to save up money or perhaps to visit family and friends who live in this area. \n",
    "\n",
    "For our data exploration purpose, it would have been nice to have couple of additional features like positive and negative reviews. Depending upon that we could have gauged the popularity of each neighbourhood."
   ]
  },
  {
   "cell_type": "code",
   "execution_count": null,
   "id": "fa0252c5",
   "metadata": {},
   "outputs": [],
   "source": []
  },
  {
   "cell_type": "code",
   "execution_count": null,
   "id": "a1e8c9bf-5cdd-4891-8fd6-e385d76a8199",
   "metadata": {},
   "outputs": [],
   "source": []
  }
 ],
 "metadata": {
  "colab": {
   "collapsed_sections": [],
   "name": "Airbnb Bookings Analysis - Capstone Project.ipynb ",
   "provenance": [
    {
     "file_id": "1FS1u2udhppsANhBJBJprEeutx6t-P7TX",
     "timestamp": 1647410951855
    },
    {
     "file_id": "1KNx2-lMsfxLj8Qi5Ez9LOXpMHRWtSHNK",
     "timestamp": 1604585315628
    }
   ]
  },
  "kaggle": {
   "accelerator": "none",
   "dataSources": [
    {
     "datasetId": 268833,
     "sourceId": 611395,
     "sourceType": "datasetVersion"
    }
   ],
   "dockerImageVersionId": 30684,
   "isGpuEnabled": false,
   "isInternetEnabled": true,
   "language": "python",
   "sourceType": "notebook"
  },
  "kernelspec": {
   "display_name": "Python 3 (ipykernel)",
   "language": "python",
   "name": "python3"
  },
  "language_info": {
   "codemirror_mode": {
    "name": "ipython",
    "version": 3
   },
   "file_extension": ".py",
   "mimetype": "text/x-python",
   "name": "python",
   "nbconvert_exporter": "python",
   "pygments_lexer": "ipython3",
   "version": "3.13.5"
  },
  "papermill": {
   "default_parameters": {},
   "duration": 15.776005,
   "end_time": "2024-04-15T05:31:30.100800",
   "environment_variables": {},
   "exception": null,
   "input_path": "__notebook__.ipynb",
   "output_path": "__notebook__.ipynb",
   "parameters": {},
   "start_time": "2024-04-15T05:31:14.324795",
   "version": "2.5.0"
  }
 },
 "nbformat": 4,
 "nbformat_minor": 5
}
